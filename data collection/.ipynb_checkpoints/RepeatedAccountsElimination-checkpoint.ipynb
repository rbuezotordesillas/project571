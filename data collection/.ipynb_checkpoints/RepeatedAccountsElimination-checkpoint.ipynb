{
 "cells": [
  {
   "cell_type": "code",
   "execution_count": 14,
   "metadata": {},
   "outputs": [],
   "source": [
    "import pandas as pd\n",
    "from pathlib import Path\n",
    "import json\n",
    "import matplotlib.pyplot as plt\n",
    "%matplotlib inline"
   ]
  },
  {
   "cell_type": "markdown",
   "metadata": {},
   "source": [
    "## Remove dupplicate accounts"
   ]
  },
  {
   "cell_type": "code",
   "execution_count": null,
   "metadata": {
    "collapsed": true
   },
   "outputs": [],
   "source": [
    "accounts_df = pd.read_csv('Data/accounts.csv',sep=\";\")"
   ]
  },
  {
   "cell_type": "code",
   "execution_count": null,
   "metadata": {
    "collapsed": true
   },
   "outputs": [],
   "source": [
    "accounts_noDup = pd.DataFrame.drop_duplicates(accounts_df)"
   ]
  },
  {
   "cell_type": "code",
   "execution_count": null,
   "metadata": {
    "collapsed": true
   },
   "outputs": [],
   "source": [
    "save_to = 'Data/NoDup/'\n",
    "accounts_noDup.to_csv(save_to+'accounts.csv',sep=';',index=False)"
   ]
  },
  {
   "cell_type": "markdown",
   "metadata": {},
   "source": [
    "## Helper Functions"
   ]
  },
  {
   "cell_type": "code",
   "execution_count": 2,
   "metadata": {},
   "outputs": [],
   "source": [
    "def loadJson(path):\n",
    "    '''returns datarfame from json file'''\n",
    "    with open(path,'r') as fp: #load historic tweets\n",
    "        tweets_json = json.load(fp)\n",
    "    return pd.read_json(tweets_json)"
   ]
  },
  {
   "cell_type": "code",
   "execution_count": 3,
   "metadata": {},
   "outputs": [],
   "source": [
    "def removeDuplicateAccounts(df):\n",
    "    '''returns dataframe without duplicate accounts'''\n",
    "    return pd.DataFrame.drop_duplicates(df,subset=\"Account\")"
   ]
  },
  {
   "cell_type": "code",
   "execution_count": 4,
   "metadata": {},
   "outputs": [],
   "source": [
    "def saveDataFrame(df,path):\n",
    "    '''save DataFerame in json format'''\n",
    "    df_json = df.to_json(orient='records')\n",
    "    with open(path,'w') as fp:\n",
    "        json.dump(df_json,fp)"
   ]
  },
  {
   "cell_type": "markdown",
   "metadata": {},
   "source": [
    "## Remove Duplicate Tweets"
   ]
  },
  {
   "cell_type": "code",
   "execution_count": 6,
   "metadata": {},
   "outputs": [
    {
     "name": "stdout",
     "output_type": "stream",
     "text": [
      "Holi\n",
      "Holi\n",
      "Holi\n",
      "Holi\n",
      "Holi\n",
      "Holi\n",
      "Holi\n",
      "Holi\n",
      "Holi\n",
      "Holi\n",
      "Holi\n",
      "Holi\n",
      "Holi\n",
      "Holi\n",
      "Holi\n",
      "Holi\n",
      "Holi\n",
      "Holi\n",
      "Holi\n",
      "Holi\n",
      "Holi\n",
      "Holi\n",
      "Holi\n",
      "Holi\n",
      "Holi\n",
      "Holi\n",
      "Holi\n"
     ]
    }
   ],
   "source": [
    "load_from = 'Data/Carlota'\n",
    "save_to = 'Data/Carlota/Tweets/'\n",
    "pathlist = Path(load_from).glob('*.json')\n",
    "for p in pathlist:\n",
    "    tweets = loadJson(p)\n",
    "    tweets_noDup = removeDuplicateAccounts(tweets)\n",
    "    saveDataFrame(tweets_noDup,path=save_to+p.name)\n",
    "    print('Holi')"
   ]
  },
  {
   "cell_type": "markdown",
   "metadata": {},
   "source": [
    "## Remove duplicate followers"
   ]
  },
  {
   "cell_type": "code",
   "execution_count": 9,
   "metadata": {},
   "outputs": [],
   "source": [
    "load_from = 'Data/Jose'\n",
    "save_to = 'Data/Jose/Followers/'\n",
    "pathlist = Path(load_from).glob('todaysFollowers_*.csv')\n",
    "for p in pathlist:\n",
    "    followers = pd.read_csv(p,sep=\";\")\n",
    "    followers_noDup = removeDuplicateAccounts(followers)\n",
    "    followers_noDup.to_csv(save_to+p.name,sep=';',index=False)"
   ]
  },
  {
   "cell_type": "markdown",
   "metadata": {},
   "source": [
    "## Check"
   ]
  },
  {
   "cell_type": "code",
   "execution_count": 7,
   "metadata": {},
   "outputs": [
    {
     "data": {
      "text/plain": [
       "181"
      ]
     },
     "execution_count": 7,
     "metadata": {},
     "output_type": "execute_result"
    }
   ],
   "source": [
    "tweets = loadJson('Data/Carlota/Tweets/todaysTweets_2018-03-01.json')\n",
    "len(tweets)"
   ]
  },
  {
   "cell_type": "code",
   "execution_count": 11,
   "metadata": {},
   "outputs": [],
   "source": [
    "followers = pd.read_csv('Data/ModelData/Followers/todaysFollowers_all.csv',sep=\";\")"
   ]
  },
  {
   "cell_type": "code",
   "execution_count": null,
   "metadata": {},
   "outputs": [],
   "source": [
    "followers_noDup = removeDuplicateAccounts(followers)\n",
    "len(followers_noDup)"
   ]
  },
  {
   "cell_type": "code",
   "execution_count": null,
   "metadata": {},
   "outputs": [],
   "source": [
    "f = pd.read_csv('Data/NoDup/todaysFollowers_2018-02-14.csv')\n",
    "len(f)"
   ]
  },
  {
   "cell_type": "code",
   "execution_count": null,
   "metadata": {},
   "outputs": [],
   "source": [
    "a = pd.read_csv('Data/NoDup/accounts.csv')\n",
    "len(a)"
   ]
  }
 ],
 "metadata": {
  "kernelspec": {
   "display_name": "Python 3",
   "language": "python",
   "name": "python3"
  },
  "language_info": {
   "codemirror_mode": {
    "name": "ipython",
    "version": 3
   },
   "file_extension": ".py",
   "mimetype": "text/x-python",
   "name": "python",
   "nbconvert_exporter": "python",
   "pygments_lexer": "ipython3",
   "version": "3.6.3"
  }
 },
 "nbformat": 4,
 "nbformat_minor": 2
}
