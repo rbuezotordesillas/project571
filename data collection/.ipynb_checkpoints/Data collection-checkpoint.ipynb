{
 "cells": [
  {
   "cell_type": "code",
   "execution_count": 1,
   "metadata": {
    "collapsed": true
   },
   "outputs": [],
   "source": [
    "from TwitterAPI import TwitterAPI\n",
    "import numpy as np\n",
    "import pandas as pd\n",
    "from datetime import datetime"
   ]
  },
  {
   "cell_type": "markdown",
   "metadata": {},
   "source": [
    "# Functions"
   ]
  },
  {
   "cell_type": "code",
   "execution_count": 2,
   "metadata": {
    "collapsed": true
   },
   "outputs": [],
   "source": [
    "def get_twitter():\n",
    "    \"\"\" \n",
    "    Generates twitter connection\n",
    "    \"\"\"\n",
    "    \n",
    "    #Tokens\n",
    "    consumer_key='nDx2bQS2DVdXEZd0b8MwaEG2L'\n",
    "    consumer_secret='BeA1VuBq7hyi01fo4LFD13YAcrDgeYxIJTQgzx4gg8H5fSc3FR'\n",
    "    access_token='900568210424164352-pKLEmPfNcqyGi3q67pyK3bJYtc5G01S'\n",
    "    access_token_secret='uGbegX9whUY0FjZS6tgIrDITVOM8Q6tKMODNVPG2sT9Aq'\n",
    "    \n",
    "    \n",
    "    twitter = TwitterAPI(\n",
    "                   consumer_key,\n",
    "                   consumer_secret,\n",
    "                   access_token,\n",
    "                   access_token_secret)\n",
    "    return twitter\n",
    "\n",
    "def get_NumberofFollowers(screen_name):       #does not crash when Exception, but does not correct exceptions either.\n",
    "    '''\n",
    "    returns the number of friends the user has\n",
    "    '''\n",
    "    errorOccurred = False\n",
    "    try:\n",
    "        request=twitter.request('users/lookup',{'screen_name':screen_name})\n",
    "        return request.json()[0]['followers_count']\n",
    "    except Exception as e:\n",
    "        print (screen_name +str(request.json()['errors']))\n",
    "        errorOccurred = True\n",
    "        return np.NaN\n",
    "    if errorOccurred:\n",
    "        print('Follower collection unsuccesfull')\n",
    "        request=twitter.request('statuses/update',{'status':str(datetime.now().date())+' Follower collection unsuccesfull'})\n",
    "    else:\n",
    "        print('Follower collection succesfull')\n",
    "        request=twitter.request('statuses/update',{'status':str(datetime.now().date())+' Follower collection succesfull'})\n",
    "    "
   ]
  },
  {
   "cell_type": "markdown",
   "metadata": {},
   "source": [
    "# Import Acsounts"
   ]
  },
  {
   "cell_type": "code",
   "execution_count": 3,
   "metadata": {
    "collapsed": true
   },
   "outputs": [],
   "source": [
    "accounts_df = pd.read_csv('Data/accounts.csv',sep=\";\")"
   ]
  },
  {
   "cell_type": "markdown",
   "metadata": {},
   "source": [
    "# Collect Data"
   ]
  },
  {
   "cell_type": "code",
   "execution_count": 4,
   "metadata": {
    "collapsed": true
   },
   "outputs": [],
   "source": [
    "twitter = get_twitter()"
   ]
  },
  {
   "cell_type": "code",
   "execution_count": 5,
   "metadata": {
    "collapsed": true
   },
   "outputs": [],
   "source": [
    "accounts = accounts_df['Account'] #pd series\n",
    "todaysFollowers = pd.DataFrame(accounts, columns=['Account'])\n",
    "date=str(datetime.now().date())\n",
    "todaysFollowers[date] = np.NaN"
   ]
  },
  {
   "cell_type": "code",
   "execution_count": 6,
   "metadata": {
    "collapsed": true
   },
   "outputs": [],
   "source": [
    "todaysFollowers[date] = todaysFollowers['Account'].apply(get_NumberofFollowers)"
   ]
  },
  {
   "cell_type": "code",
   "execution_count": 7,
   "metadata": {},
   "outputs": [
    {
     "data": {
      "text/html": [
       "<div>\n",
       "<style>\n",
       "    .dataframe thead tr:only-child th {\n",
       "        text-align: right;\n",
       "    }\n",
       "\n",
       "    .dataframe thead th {\n",
       "        text-align: left;\n",
       "    }\n",
       "\n",
       "    .dataframe tbody tr th {\n",
       "        vertical-align: top;\n",
       "    }\n",
       "</style>\n",
       "<table border=\"1\" class=\"dataframe\">\n",
       "  <thead>\n",
       "    <tr style=\"text-align: right;\">\n",
       "      <th></th>\n",
       "      <th>Account</th>\n",
       "      <th>2018-02-12</th>\n",
       "    </tr>\n",
       "  </thead>\n",
       "  <tbody>\n",
       "  </tbody>\n",
       "</table>\n",
       "</div>"
      ],
      "text/plain": [
       "Empty DataFrame\n",
       "Columns: [Account, 2018-02-12]\n",
       "Index: []"
      ]
     },
     "execution_count": 7,
     "metadata": {},
     "output_type": "execute_result"
    }
   ],
   "source": [
    "todaysFollowers.loc[pd.isnull(todaysFollowers[date])] #check nulls"
   ]
  },
  {
   "cell_type": "markdown",
   "metadata": {},
   "source": [
    "# Save Data"
   ]
  },
  {
   "cell_type": "code",
   "execution_count": 8,
   "metadata": {
    "collapsed": true
   },
   "outputs": [],
   "source": [
    "todaysFollowers.to_csv('Data/todaysFollowers_'+date+'.csv',sep=';',index=False)"
   ]
  },
  {
   "cell_type": "markdown",
   "metadata": {},
   "source": [
    "# Add to Historic Data"
   ]
  },
  {
   "cell_type": "code",
   "execution_count": 9,
   "metadata": {
    "collapsed": true
   },
   "outputs": [],
   "source": [
    "historicData = pd.read_csv('Data/todaysFollowers_all.csv',sep = ';') #load historic"
   ]
  },
  {
   "cell_type": "code",
   "execution_count": 10,
   "metadata": {
    "collapsed": true
   },
   "outputs": [],
   "source": [
    "historicData = pd.concat([historicData,todaysFollowers[date]],axis=1) #add todays column"
   ]
  },
  {
   "cell_type": "code",
   "execution_count": 11,
   "metadata": {},
   "outputs": [
    {
     "data": {
      "text/html": [
       "<div>\n",
       "<style>\n",
       "    .dataframe thead tr:only-child th {\n",
       "        text-align: right;\n",
       "    }\n",
       "\n",
       "    .dataframe thead th {\n",
       "        text-align: left;\n",
       "    }\n",
       "\n",
       "    .dataframe tbody tr th {\n",
       "        vertical-align: top;\n",
       "    }\n",
       "</style>\n",
       "<table border=\"1\" class=\"dataframe\">\n",
       "  <thead>\n",
       "    <tr style=\"text-align: right;\">\n",
       "      <th></th>\n",
       "      <th>Account</th>\n",
       "      <th>11/02/2018</th>\n",
       "      <th>2018-02-12</th>\n",
       "    </tr>\n",
       "  </thead>\n",
       "  <tbody>\n",
       "    <tr>\n",
       "      <th>0</th>\n",
       "      <td>bonappetit</td>\n",
       "      <td>3187723</td>\n",
       "      <td>3187464</td>\n",
       "    </tr>\n",
       "    <tr>\n",
       "      <th>1</th>\n",
       "      <td>NatGeoFood</td>\n",
       "      <td>35330</td>\n",
       "      <td>35345</td>\n",
       "    </tr>\n",
       "    <tr>\n",
       "      <th>2</th>\n",
       "      <td>TwitterFood</td>\n",
       "      <td>838066</td>\n",
       "      <td>838115</td>\n",
       "    </tr>\n",
       "    <tr>\n",
       "      <th>3</th>\n",
       "      <td>Fooddotcom</td>\n",
       "      <td>27</td>\n",
       "      <td>27</td>\n",
       "    </tr>\n",
       "    <tr>\n",
       "      <th>4</th>\n",
       "      <td>newfoodeconomy</td>\n",
       "      <td>5806</td>\n",
       "      <td>5815</td>\n",
       "    </tr>\n",
       "  </tbody>\n",
       "</table>\n",
       "</div>"
      ],
      "text/plain": [
       "          Account  11/02/2018  2018-02-12\n",
       "0      bonappetit     3187723     3187464\n",
       "1      NatGeoFood       35330       35345\n",
       "2     TwitterFood      838066      838115\n",
       "3      Fooddotcom          27          27\n",
       "4  newfoodeconomy        5806        5815"
      ]
     },
     "execution_count": 11,
     "metadata": {},
     "output_type": "execute_result"
    }
   ],
   "source": [
    "historicData.head()"
   ]
  },
  {
   "cell_type": "code",
   "execution_count": 12,
   "metadata": {},
   "outputs": [],
   "source": [
    "historicData.to_csv('Data/todaysFollowers_all.csv',sep=';',index=False) #save"
   ]
  }
 ],
 "metadata": {
  "kernelspec": {
   "display_name": "Python 3",
   "language": "python",
   "name": "python3"
  },
  "language_info": {
   "codemirror_mode": {
    "name": "ipython",
    "version": 3
   },
   "file_extension": ".py",
   "mimetype": "text/x-python",
   "name": "python",
   "nbconvert_exporter": "python",
   "pygments_lexer": "ipython3",
   "version": "3.6.1"
  }
 },
 "nbformat": 4,
 "nbformat_minor": 2
}
