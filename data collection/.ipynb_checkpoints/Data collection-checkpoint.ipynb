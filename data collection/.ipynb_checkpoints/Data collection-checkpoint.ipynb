{
 "cells": [
  {
   "cell_type": "code",
   "execution_count": 1,
   "metadata": {
    "collapsed": true
   },
   "outputs": [],
   "source": [
    "from TwitterAPI import TwitterAPI\n",
    "import numpy as np\n",
    "import pandas as pd\n",
    "from datetime import datetime"
   ]
  },
  {
   "cell_type": "markdown",
   "metadata": {},
   "source": [
    "# Functions"
   ]
  },
  {
   "cell_type": "code",
   "execution_count": 2,
   "metadata": {
    "collapsed": true
   },
   "outputs": [],
   "source": [
    "def get_twitter():\n",
    "    \"\"\" \n",
    "    Generates twitter connection\n",
    "    \"\"\"\n",
    "    \n",
    "    #Tokens\n",
    "    consumer_key='nDx2bQS2DVdXEZd0b8MwaEG2L'\n",
    "    consumer_secret='BeA1VuBq7hyi01fo4LFD13YAcrDgeYxIJTQgzx4gg8H5fSc3FR'\n",
    "    access_token='900568210424164352-pKLEmPfNcqyGi3q67pyK3bJYtc5G01S'\n",
    "    access_token_secret='uGbegX9whUY0FjZS6tgIrDITVOM8Q6tKMODNVPG2sT9Aq'\n",
    "    \n",
    "    \n",
    "    twitter = TwitterAPI(\n",
    "                   consumer_key,\n",
    "                   consumer_secret,\n",
    "                   access_token,\n",
    "                   access_token_secret)\n",
    "    return twitter\n",
    "\n",
    "def get_NumberofFollowers(screen_name):       #does not crash when Exception, but does not correct exceptions either.\n",
    "    '''\n",
    "    returns the number of friends the user has\n",
    "    '''\n",
    "    try:\n",
    "        request=twitter.request('users/lookup',{'screen_name':screen_name})\n",
    "        return request.json()[0]['followers_count']\n",
    "    except Exception as e:\n",
    "        print (screen_name +str(request.json()['errors']))\n",
    "        return np.NaN"
   ]
  },
  {
   "cell_type": "markdown",
   "metadata": {},
   "source": [
    "# Import Acsounts"
   ]
  },
  {
   "cell_type": "code",
   "execution_count": 3,
   "metadata": {
    "collapsed": true
   },
   "outputs": [],
   "source": [
    "accounts_df = pd.read_csv('Data/accounts.csv',sep=\";\")"
   ]
  },
  {
   "cell_type": "markdown",
   "metadata": {},
   "source": [
    "# Collect Data"
   ]
  },
  {
   "cell_type": "code",
   "execution_count": 4,
   "metadata": {
    "collapsed": true
   },
   "outputs": [],
   "source": [
    "twitter = get_twitter()"
   ]
  },
  {
   "cell_type": "code",
   "execution_count": 5,
   "metadata": {},
   "outputs": [],
   "source": [
    "accounts = accounts_df['Account'] #pd series\n",
    "todaysFollowers = pd.DataFrame(accounts, columns=['Account'])\n",
    "todaysFollowers['NumberOfFollowers'] = np.NaN\n",
    "todaysFollowers['Date'] = datetime.now().date()"
   ]
  },
  {
   "cell_type": "code",
   "execution_count": 6,
   "metadata": {},
   "outputs": [],
   "source": [
    "todaysFollowers['NumberOfFollowers'] = todaysFollowers['Account'].apply(get_NumberofFollowers)"
   ]
  },
  {
   "cell_type": "code",
   "execution_count": 7,
   "metadata": {},
   "outputs": [
    {
     "data": {
      "text/html": [
       "<div>\n",
       "<style>\n",
       "    .dataframe thead tr:only-child th {\n",
       "        text-align: right;\n",
       "    }\n",
       "\n",
       "    .dataframe thead th {\n",
       "        text-align: left;\n",
       "    }\n",
       "\n",
       "    .dataframe tbody tr th {\n",
       "        vertical-align: top;\n",
       "    }\n",
       "</style>\n",
       "<table border=\"1\" class=\"dataframe\">\n",
       "  <thead>\n",
       "    <tr style=\"text-align: right;\">\n",
       "      <th></th>\n",
       "      <th>Account</th>\n",
       "      <th>NumberOfFollowers</th>\n",
       "      <th>Date</th>\n",
       "    </tr>\n",
       "  </thead>\n",
       "  <tbody>\n",
       "  </tbody>\n",
       "</table>\n",
       "</div>"
      ],
      "text/plain": [
       "Empty DataFrame\n",
       "Columns: [Account, NumberOfFollowers, Date]\n",
       "Index: []"
      ]
     },
     "execution_count": 7,
     "metadata": {},
     "output_type": "execute_result"
    }
   ],
   "source": [
    "todaysFollowers.loc[pd.isnull(todaysFollowers.NumberOfFollowers)] #check nulls"
   ]
  },
  {
   "cell_type": "markdown",
   "metadata": {},
   "source": [
    "# Save Data"
   ]
  },
  {
   "cell_type": "code",
   "execution_count": 9,
   "metadata": {
    "collapsed": true
   },
   "outputs": [],
   "source": [
    "todaysFollowers.to_csv('Data/todaysFollowers_'+str(datetime.now().date())+'.csv',sep=';')"
   ]
  }
 ],
 "metadata": {
  "kernelspec": {
   "display_name": "Python 3",
   "language": "python",
   "name": "python3"
  },
  "language_info": {
   "codemirror_mode": {
    "name": "ipython",
    "version": 3
   },
   "file_extension": ".py",
   "mimetype": "text/x-python",
   "name": "python",
   "nbconvert_exporter": "python",
   "pygments_lexer": "ipython3",
   "version": "3.6.1"
  }
 },
 "nbformat": 4,
 "nbformat_minor": 2
}
