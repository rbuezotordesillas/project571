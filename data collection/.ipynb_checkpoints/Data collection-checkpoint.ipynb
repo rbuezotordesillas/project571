{
 "cells": [
  {
   "cell_type": "code",
   "execution_count": 13,
   "metadata": {},
   "outputs": [],
   "source": [
    "from TwitterAPI import TwitterAPI\n",
    "import numpy as np\n",
    "import pandas as pd\n",
    "from datetime import datetime,timedelta\n",
    "from pytz import timezone\n",
    "import json\n",
    "import matplotlib.pyplot as plt\n",
    "import time\n",
    "import sys\n",
    "from sys import getsizeof"
   ]
  },
  {
   "cell_type": "markdown",
   "metadata": {},
   "source": [
    "# Functions"
   ]
  },
  {
   "cell_type": "code",
   "execution_count": 14,
   "metadata": {},
   "outputs": [],
   "source": [
    "def get_twitter():\n",
    "    \"\"\" \n",
    "    Generates twitter connection\n",
    "    \"\"\"\n",
    "    \n",
    "    #Tokens\n",
    "    consumer_key='nDx2bQS2DVdXEZd0b8MwaEG2L'\n",
    "    consumer_secret='BeA1VuBq7hyi01fo4LFD13YAcrDgeYxIJTQgzx4gg8H5fSc3FR'\n",
    "    access_token='900568210424164352-pKLEmPfNcqyGi3q67pyK3bJYtc5G01S'\n",
    "    access_token_secret='uGbegX9whUY0FjZS6tgIrDITVOM8Q6tKMODNVPG2sT9Aq'\n",
    "    \n",
    "    \n",
    "    twitter = TwitterAPI(\n",
    "                   consumer_key,\n",
    "                   consumer_secret,\n",
    "                   access_token,\n",
    "                   access_token_secret)\n",
    "    return twitter\n",
    "\n",
    "def get_NumberofFollowers(screen_name):       #does not crash when Exception, but does not correct exceptions either.\n",
    "    '''\n",
    "    returns the number of friends the user has\n",
    "    '''\n",
    "    try:\n",
    "        request=twitter.request('users/lookup',{'screen_name':screen_name})\n",
    "        return request.json()[0]['followers_count']\n",
    "    except Exception as e:\n",
    "        print (screen_name +str(request.json()['errors']))\n",
    "        return np.NaN    \n",
    "\n",
    "def get_timeline(screen_name,count=200): #should modify this to be more robust\n",
    "    '''\n",
    "    retuns a list with the last (count-deleted) tweets from the user\n",
    "    '''\n",
    "    try:\n",
    "        request = twitter.request('statuses/user_timeline',{'screen_name': screen_name,'count': count})\n",
    "        return request.json()\n",
    "    except Exception as e:\n",
    "        print (screen_name +str(request.json()['errors']))\n",
    "        return np.NaN\n",
    "def get_TodaysTweets(screen_name,count=200,exclude_replies = True, max_id = None): #should modify this to be more robust\n",
    "    '''\n",
    "    retuns a list with the last (count-deleted) tweets from the user\n",
    "    '''\n",
    "    try:\n",
    "        request = twitter.request('statuses/user_timeline',{'screen_name': screen_name,'count': count,\n",
    "                                                            'exclude_replies':exclude_replies,'max_id':max_id})\n",
    "        assert (type(request.json())==list) \n",
    "    except AssertionError:\n",
    "        print(request.json())\n",
    "        return np.NaN\n",
    "    else:\n",
    "        tweet_list = request.json()\n",
    "        yesterday_DT = datetime.now(timezone('US/Central'))-timedelta(days=1)\n",
    "        todaysTweets = []\n",
    "        if tweet_list == []:\n",
    "            pb.increase()\n",
    "            return todaysTweets\n",
    "        elif not (strToChicago_DT(tweet_list[-1]['created_at']) > yesterday_DT): #last of the 200 was in the last 24h\n",
    "            todaysTweets =  [t for t in tweet_list if strToChicago_DT(t['created_at']) > yesterday_DT]\n",
    "            pb.increase()\n",
    "            return todaysTweets\n",
    "        else:\n",
    "            todaysTweets = tweet_list.copy()\n",
    "            max_id = todaysTweets[-1]['id']\n",
    "            todaysTweets += get_TodaysTweets(screen_name,count=200,exclude_replies = True, max_id = max_id)[1:]\n",
    "            return todaysTweets"
   ]
  },
  {
   "cell_type": "markdown",
   "metadata": {},
   "source": [
    "## Helper functions"
   ]
  },
  {
   "cell_type": "code",
   "execution_count": 15,
   "metadata": {},
   "outputs": [],
   "source": [
    "def strToChicago_DT(string):\n",
    "    UTC_DT = datetime.strptime(string,'%a %b %d %H:%M:%S +0000 %Y').replace(tzinfo = timezone('UTC'))\n",
    "    Chicago_DT = UTC_DT.astimezone(timezone('US/Central'))\n",
    "    return Chicago_DT"
   ]
  },
  {
   "cell_type": "code",
   "execution_count": 16,
   "metadata": {},
   "outputs": [],
   "source": [
    "class progress_bar(object):\n",
    "    def __init__(self,length,startingValue = 0):\n",
    "        self.length = length\n",
    "        self.progress = startingValue\n",
    "    def increase(self,by = 1):\n",
    "        self.progress += 1/self.length\n",
    "        self.update_progress(self.progress)\n",
    "    def update_progress(self,progress):\n",
    "        barLength = 10 # Modify this to change the length of the progress bar\n",
    "        status = \"\"\n",
    "        if isinstance(progress, int):\n",
    "            progress = float(progress)\n",
    "        if not isinstance(progress, float):\n",
    "            progress = 0\n",
    "            status = \"error: progress var must be float\\r\\n\"\n",
    "        if progress < 0:\n",
    "            progress = 0\n",
    "            status = \"Halt...\\r\\n\"\n",
    "        if progress >= 1:\n",
    "            progress = 1\n",
    "            status = \"Done...\\r\\n\"\n",
    "        block = int(round(barLength*progress))\n",
    "        text = \"\\rPercent: [{0}] {1}% {2}\".format( \"#\"*block + \"-\"*(barLength-block), round(progress*100,2), status)\n",
    "        sys.stdout.write(text)\n",
    "        sys.stdout.flush()"
   ]
  },
  {
   "cell_type": "markdown",
   "metadata": {},
   "source": [
    "# Import Accounts"
   ]
  },
  {
   "cell_type": "code",
   "execution_count": 17,
   "metadata": {},
   "outputs": [],
   "source": [
    "accounts_df = pd.read_csv('Data/ModelData/accounts.csv',sep=\";\")"
   ]
  },
  {
   "cell_type": "markdown",
   "metadata": {},
   "source": [
    "# Collect Data"
   ]
  },
  {
   "cell_type": "code",
   "execution_count": 18,
   "metadata": {},
   "outputs": [],
   "source": [
    "twitter = get_twitter()"
   ]
  },
  {
   "cell_type": "code",
   "execution_count": 19,
   "metadata": {},
   "outputs": [],
   "source": [
    "accounts = accounts_df['Account'] #pd series\n",
    "todaysTweets = pd.DataFrame(accounts, columns=['Account'])\n",
    "todaysFollowers = pd.DataFrame(accounts, columns=['Account'])\n",
    "date=str(datetime.now().date())\n",
    "todaysTweets[date] = np.NaN\n",
    "todaysFollowers[date] = np.NaN"
   ]
  },
  {
   "cell_type": "code",
   "execution_count": 20,
   "metadata": {},
   "outputs": [
    {
     "name": "stdout",
     "output_type": "stream",
     "text": [
      "Collecting Todays Tweets\n",
      "Percent: [###-------] 27.07% {'request': '/1.1/statuses/user_timeline.json', 'error': 'Not authorized.'}\n",
      "Percent: [########--] 80.11% {'request': '/1.1/statuses/user_timeline.json', 'error': 'Not authorized.'}\n",
      "Percent: [##########] 98.9%  "
     ]
    }
   ],
   "source": [
    "pb = progress_bar(len(accounts_df))\n",
    "print('Collecting Todays Tweets')\n",
    "todaysTweets[date] = todaysTweets['Account'].apply(get_TodaysTweets)"
   ]
  },
  {
   "cell_type": "code",
   "execution_count": 24,
   "metadata": {},
   "outputs": [
    {
     "data": {
      "text/html": [
       "<div>\n",
       "<style scoped>\n",
       "    .dataframe tbody tr th:only-of-type {\n",
       "        vertical-align: middle;\n",
       "    }\n",
       "\n",
       "    .dataframe tbody tr th {\n",
       "        vertical-align: top;\n",
       "    }\n",
       "\n",
       "    .dataframe thead th {\n",
       "        text-align: right;\n",
       "    }\n",
       "</style>\n",
       "<table border=\"1\" class=\"dataframe\">\n",
       "  <thead>\n",
       "    <tr style=\"text-align: right;\">\n",
       "      <th></th>\n",
       "      <th>Account</th>\n",
       "      <th>2018-04-04</th>\n",
       "    </tr>\n",
       "  </thead>\n",
       "  <tbody>\n",
       "    <tr>\n",
       "      <th>49</th>\n",
       "      <td>Earth_Pics</td>\n",
       "      <td>NaN</td>\n",
       "    </tr>\n",
       "    <tr>\n",
       "      <th>146</th>\n",
       "      <td>fabulousanimals</td>\n",
       "      <td>NaN</td>\n",
       "    </tr>\n",
       "  </tbody>\n",
       "</table>\n",
       "</div>"
      ],
      "text/plain": [
       "             Account 2018-04-04\n",
       "49        Earth_Pics        NaN\n",
       "146  fabulousanimals        NaN"
      ]
     },
     "execution_count": 24,
     "metadata": {},
     "output_type": "execute_result"
    }
   ],
   "source": [
    "todaysTweets[todaysTweets[date].isnull()]"
   ]
  },
  {
   "cell_type": "code",
   "execution_count": null,
   "metadata": {
    "collapsed": true
   },
   "outputs": [],
   "source": [
    "todaysFollowers[date] = todaysFollowers['Account'].apply(get_NumberofFollowers)"
   ]
  },
  {
   "cell_type": "markdown",
   "metadata": {},
   "source": [
    "### Check"
   ]
  },
  {
   "cell_type": "code",
   "execution_count": null,
   "metadata": {
    "collapsed": true
   },
   "outputs": [],
   "source": [
    "todaysFollowers.head()"
   ]
  },
  {
   "cell_type": "code",
   "execution_count": null,
   "metadata": {
    "collapsed": true
   },
   "outputs": [],
   "source": [
    "todaysFollowers.loc[pd.isnull(todaysFollowers[date])] #check nulls"
   ]
  },
  {
   "cell_type": "code",
   "execution_count": null,
   "metadata": {
    "collapsed": true
   },
   "outputs": [],
   "source": [
    "todaysTweets.head()"
   ]
  },
  {
   "cell_type": "markdown",
   "metadata": {},
   "source": [
    "# Save Data"
   ]
  },
  {
   "cell_type": "code",
   "execution_count": null,
   "metadata": {
    "collapsed": true
   },
   "outputs": [],
   "source": [
    "todaysFollowers.to_csv('Data/todaysFollowers_'+date+'.csv',sep=';',index=False)"
   ]
  },
  {
   "cell_type": "code",
   "execution_count": null,
   "metadata": {
    "collapsed": true
   },
   "outputs": [],
   "source": [
    "todaysTweets_json = todaysTweets.to_json(orient='records')\n",
    "with open('Data/todaysTweets_'+date+'.json','w') as fp:\n",
    "    json.dump(todaysTweets_json,fp)"
   ]
  },
  {
   "cell_type": "markdown",
   "metadata": {},
   "source": [
    "# Add to Historic Data"
   ]
  },
  {
   "cell_type": "markdown",
   "metadata": {},
   "source": [
    "### Load Historics"
   ]
  },
  {
   "cell_type": "code",
   "execution_count": null,
   "metadata": {
    "collapsed": true
   },
   "outputs": [],
   "source": [
    "historicFollowers = pd.read_csv('Data/todaysFollowers_all.csv',sep = ';') #load historic Followers"
   ]
  },
  {
   "cell_type": "code",
   "execution_count": null,
   "metadata": {},
   "outputs": [],
   "source": [
    "with open('Data/todaysTweets_all.json','r') as fp: #load historic tweets\n",
    "    historicTweets_json = json.load(fp)\n",
    "historicTweets = pd.read_json(historicTweets_json)"
   ]
  },
  {
   "cell_type": "markdown",
   "metadata": {},
   "source": [
    "### Concatenate"
   ]
  },
  {
   "cell_type": "code",
   "execution_count": null,
   "metadata": {
    "collapsed": true
   },
   "outputs": [],
   "source": [
    "historicFollowers = pd.concat([historicFollowers,todaysFollowers[date]],axis=1) #add todays column"
   ]
  },
  {
   "cell_type": "code",
   "execution_count": null,
   "metadata": {
    "collapsed": true
   },
   "outputs": [],
   "source": [
    "historicTweets = pd.concat([historicTweets,todaysTweets[date]],axis=1)"
   ]
  },
  {
   "cell_type": "markdown",
   "metadata": {},
   "source": [
    "### Check"
   ]
  },
  {
   "cell_type": "code",
   "execution_count": null,
   "metadata": {
    "collapsed": true
   },
   "outputs": [],
   "source": [
    "historicFollowers.head()"
   ]
  },
  {
   "cell_type": "code",
   "execution_count": null,
   "metadata": {
    "collapsed": true
   },
   "outputs": [],
   "source": [
    "historicTweets.head()"
   ]
  },
  {
   "cell_type": "code",
   "execution_count": null,
   "metadata": {
    "collapsed": true
   },
   "outputs": [],
   "source": [
    "getsizeof(historicTweets) + sum(getsizeof(k) + getsizeof(v) for k, v in historicTweets.items())\n",
    "getsizeof(historicTweets_json)"
   ]
  },
  {
   "cell_type": "code",
   "execution_count": 6,
   "metadata": {},
   "outputs": [],
   "source": [
    "with open('Data/carlota.json','r') as fp: #load historic tweets\n",
    "    carlota_json = json.load(fp)\n",
    "carlota = pd.read_json(carlota_json)"
   ]
  },
  {
   "cell_type": "code",
   "execution_count": 24,
   "metadata": {},
   "outputs": [
    {
     "data": {
      "text/plain": [
       "184"
      ]
     },
     "execution_count": 24,
     "metadata": {},
     "output_type": "execute_result"
    }
   ],
   "source": [
    "len(carlota['2018-03-01'])"
   ]
  },
  {
   "cell_type": "code",
   "execution_count": 25,
   "metadata": {},
   "outputs": [
    {
     "data": {
      "text/plain": [
       "184"
      ]
     },
     "execution_count": 25,
     "metadata": {},
     "output_type": "execute_result"
    }
   ],
   "source": [
    "len(todaysTweets[date])"
   ]
  },
  {
   "cell_type": "code",
   "execution_count": 25,
   "metadata": {},
   "outputs": [],
   "source": [
    "request = twitter.request('statuses/user_timeline',{'screen_name': 'Earth_Pics','count': 200,\n",
    "                                                            'exclude_replies':True,'max_id':None})"
   ]
  },
  {
   "cell_type": "code",
   "execution_count": 26,
   "metadata": {},
   "outputs": [],
   "source": [
    "tweets = request.json()"
   ]
  },
  {
   "cell_type": "code",
   "execution_count": 30,
   "metadata": {},
   "outputs": [
    {
     "data": {
      "text/plain": [
       "{'error': 'Not authorized.', 'request': '/1.1/statuses/user_timeline.json'}"
      ]
     },
     "execution_count": 30,
     "metadata": {},
     "output_type": "execute_result"
    }
   ],
   "source": [
    "tweets"
   ]
  },
  {
   "cell_type": "markdown",
   "metadata": {},
   "source": [
    "### Save"
   ]
  },
  {
   "cell_type": "code",
   "execution_count": null,
   "metadata": {
    "collapsed": true
   },
   "outputs": [],
   "source": [
    "historicFollowers.to_csv('Data/todaysFollowers_all.csv',sep=';',index=False) #save"
   ]
  },
  {
   "cell_type": "code",
   "execution_count": null,
   "metadata": {
    "collapsed": true
   },
   "outputs": [],
   "source": [
    "historicTweets_json = historicTweets.to_json(orient='records')\n",
    "with open('Data/todaysTweets_all.json','w') as fp:\n",
    "    json.dump(historicTweets_json,fp)"
   ]
  }
 ],
 "metadata": {
  "kernelspec": {
   "display_name": "Python 3",
   "language": "python",
   "name": "python3"
  },
  "language_info": {
   "codemirror_mode": {
    "name": "ipython",
    "version": 3
   },
   "file_extension": ".py",
   "mimetype": "text/x-python",
   "name": "python",
   "nbconvert_exporter": "python",
   "pygments_lexer": "ipython3",
   "version": "3.6.3"
  }
 },
 "nbformat": 4,
 "nbformat_minor": 2
}
