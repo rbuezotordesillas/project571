{
 "cells": [
  {
   "cell_type": "code",
   "execution_count": 4,
   "metadata": {},
   "outputs": [],
   "source": [
    "from TwitterAPI import TwitterAPI\n",
    "import numpy as np\n",
    "import pandas as pd\n",
    "from datetime import datetime,timedelta\n",
    "from pytz import timezone\n",
    "import json\n",
    "import time\n",
    "from pathlib import Path"
   ]
  },
  {
   "cell_type": "code",
   "execution_count": 9,
   "metadata": {},
   "outputs": [],
   "source": [
    "def strToChicago_DT(string):\n",
    "    UTC_DT = datetime.strptime(string,'%a %b %d %H:%M:%S +0000 %Y').replace(tzinfo = timezone('UTC'))\n",
    "    Chicago_DT = UTC_DT.astimezone(timezone('US/Central'))\n",
    "    return Chicago_DT\n",
    "def getPasswords():\n",
    "    file = open('passwords.txt','r')\n",
    "    passwords_json = file.read()\n",
    "    return json.loads(passwords_json)\n",
    "def get_twitter():\n",
    "    \"\"\" \n",
    "    Generates twitter connection\n",
    "    \"\"\"\n",
    "    passwords = getPasswords()\n",
    "    \n",
    "    consumer_key = passwords['consumer_key']\n",
    "    consumer_secret = passwords['consumer_secret']\n",
    "    access_token = passwords['access_token']\n",
    "    access_token_secret = passwords['access_token_secret']\n",
    "    \n",
    "    twitter = TwitterAPI(\n",
    "                   consumer_key,\n",
    "                   consumer_secret,\n",
    "                   access_token,\n",
    "                   access_token_secret)\n",
    "    return twitter\n",
    "def get_TweetsJson(screen_name,count=200,exclude_replies = True, max_id = None): #should modify this to be more robust\n",
    "    '''\n",
    "    retuns a list with the last (count-deleted) tweets from the user\n",
    "    '''\n",
    "    try:\n",
    "        request = twitter.request('statuses/user_timeline',{'screen_name': screen_name,'count': count,\n",
    "                                                            'exclude_replies':exclude_replies,'max_id':max_id})\n",
    "        assert (type(request.json())==list) \n",
    "    except AssertionError:\n",
    "        return []\n",
    "    else:\n",
    "        tweet_list = request.json()\n",
    "        yesterday_DT = datetime.now(timezone('US/Central'))-timedelta(days=1)\n",
    "        todaysTweets = []\n",
    "        if tweet_list == []:\n",
    "            return todaysTweets\n",
    "        elif not (strToChicago_DT(tweet_list[-1]['created_at']) > yesterday_DT): #last of the 200 was in the last 24h\n",
    "            todaysTweets =  [t for t in tweet_list if strToChicago_DT(t['created_at']) > yesterday_DT]\n",
    "            return todaysTweets\n",
    "        else:\n",
    "            todaysTweets = tweet_list.copy()\n",
    "            max_id = todaysTweets[-1]['id']\n",
    "            todaysTweets += get_TodaysTweets(screen_name,count=200,exclude_replies = True, max_id = max_id)[1:]\n",
    "            return todaysTweets"
   ]
  },
  {
   "cell_type": "code",
   "execution_count": 10,
   "metadata": {},
   "outputs": [],
   "source": [
    "accounts_df = pd.read_csv('Data/ModelData/accounts.csv',sep=\";\")"
   ]
  },
  {
   "cell_type": "code",
   "execution_count": 12,
   "metadata": {},
   "outputs": [
    {
     "data": {
      "text/plain": [
       "'bonappetit'"
      ]
     },
     "execution_count": 12,
     "metadata": {},
     "output_type": "execute_result"
    }
   ],
   "source": [
    "accounts_df.Account[0]"
   ]
  },
  {
   "cell_type": "code",
   "execution_count": 11,
   "metadata": {},
   "outputs": [],
   "source": [
    "twitter = get_twitter()"
   ]
  },
  {
   "cell_type": "code",
   "execution_count": 13,
   "metadata": {},
   "outputs": [],
   "source": [
    "request = twitter.request('statuses/user_timeline',{'screen_name': accounts_df.Account[0],'count': 200,\n",
    "                                                            'exclude_replies':True,'max_id':None})"
   ]
  },
  {
   "cell_type": "code",
   "execution_count": 15,
   "metadata": {},
   "outputs": [],
   "source": [
    "requestData = request.json()"
   ]
  },
  {
   "cell_type": "code",
   "execution_count": 16,
   "metadata": {},
   "outputs": [
    {
     "ename": "AttributeError",
     "evalue": "'list' object has no attribute 'to_json'",
     "output_type": "error",
     "traceback": [
      "\u001b[1;31m---------------------------------------------------------------------------\u001b[0m",
      "\u001b[1;31mAttributeError\u001b[0m                            Traceback (most recent call last)",
      "\u001b[1;32m<ipython-input-16-3d5f57ed4d80>\u001b[0m in \u001b[0;36m<module>\u001b[1;34m()\u001b[0m\n\u001b[1;32m----> 1\u001b[1;33m \u001b[0mrequestData_json\u001b[0m \u001b[1;33m=\u001b[0m \u001b[0mrequestData\u001b[0m\u001b[1;33m.\u001b[0m\u001b[0mto_json\u001b[0m\u001b[1;33m(\u001b[0m\u001b[1;33m)\u001b[0m\u001b[1;33m\u001b[0m\u001b[0m\n\u001b[0m",
      "\u001b[1;31mAttributeError\u001b[0m: 'list' object has no attribute 'to_json'"
     ]
    }
   ],
   "source": [
    "requestData_json = requestData.to_json()"
   ]
  },
  {
   "cell_type": "code",
   "execution_count": 18,
   "metadata": {},
   "outputs": [],
   "source": [
    "with open('requestTest.json','w') as fp:\n",
    "    json.dump(request.json(),fp)"
   ]
  },
  {
   "cell_type": "code",
   "execution_count": 21,
   "metadata": {},
   "outputs": [],
   "source": [
    "for account in accounts_df.Account:\n",
    "    request = get_TweetsJson(account)\n",
    "    with open('Data/Graph/'+account+'.json','w') as fp:\n",
    "        json.dump(request,fp)"
   ]
  },
  {
   "cell_type": "code",
   "execution_count": 2,
   "metadata": {},
   "outputs": [],
   "source": [
    "def loadJson(path):\n",
    "    '''returns json file'''\n",
    "    with open(path,'r') as fp: #load historic tweets\n",
    "        return json.load(fp)"
   ]
  },
  {
   "cell_type": "code",
   "execution_count": 6,
   "metadata": {},
   "outputs": [],
   "source": [
    "test = loadJson('../data collection/Data/Graph/9GAG.json')"
   ]
  },
  {
   "cell_type": "code",
   "execution_count": 11,
   "metadata": {},
   "outputs": [],
   "source": [
    "load_from = 'Data/Graph'\n",
    "pathlist = Path(load_from).glob('*.json')\n",
    "results = []\n",
    "for p in pathlist:\n",
    "    file = loadJson(p)\n",
    "    if not file == []:\n",
    "        results.append(file)"
   ]
  },
  {
   "cell_type": "code",
   "execution_count": 13,
   "metadata": {},
   "outputs": [],
   "source": [
    " with open('Data/Graph/mergedNoSp.json','w') as fp:\n",
    "        json.dump(results,fp)"
   ]
  },
  {
   "cell_type": "code",
   "execution_count": 12,
   "metadata": {},
   "outputs": [
    {
     "data": {
      "text/plain": [
       "134"
      ]
     },
     "execution_count": 12,
     "metadata": {},
     "output_type": "execute_result"
    }
   ],
   "source": [
    "len(results)"
   ]
  },
  {
   "cell_type": "code",
   "execution_count": 8,
   "metadata": {},
   "outputs": [
    {
     "data": {
      "text/plain": [
       "True"
      ]
     },
     "execution_count": 8,
     "metadata": {},
     "output_type": "execute_result"
    }
   ],
   "source": []
  },
  {
   "cell_type": "code",
   "execution_count": null,
   "metadata": {},
   "outputs": [],
   "source": []
  }
 ],
 "metadata": {
  "kernelspec": {
   "display_name": "Python 3",
   "language": "python",
   "name": "python3"
  },
  "language_info": {
   "codemirror_mode": {
    "name": "ipython",
    "version": 3
   },
   "file_extension": ".py",
   "mimetype": "text/x-python",
   "name": "python",
   "nbconvert_exporter": "python",
   "pygments_lexer": "ipython3",
   "version": "3.6.3"
  }
 },
 "nbformat": 4,
 "nbformat_minor": 2
}
