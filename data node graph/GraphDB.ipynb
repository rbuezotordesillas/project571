{
 "cells": [
  {
   "cell_type": "code",
   "execution_count": 1,
   "metadata": {
    "collapsed": true,
    "scrolled": true
   },
   "outputs": [],
   "source": [
    "import numpy as np\n",
    "import pandas as pd\n",
    "import json"
   ]
  },
  {
   "cell_type": "code",
   "execution_count": 2,
   "metadata": {
    "collapsed": true
   },
   "outputs": [],
   "source": [
    "def loadJson(path):\n",
    "    '''returns dataframe from json file'''\n",
    "    with open(path,'r') as fp: \n",
    "        tweets_json = json.load(fp)\n",
    "    return pd.read_json(tweets_json)"
   ]
  },
  {
   "cell_type": "code",
   "execution_count": 16,
   "metadata": {
    "collapsed": true
   },
   "outputs": [],
   "source": [
    "def saveDataFrame(df,path):\n",
    "    '''save DataFerame in csv format'''\n",
    "    df.to_csv(path,sep=',',index=False)"
   ]
  },
  {
   "cell_type": "code",
   "execution_count": 4,
   "metadata": {
    "collapsed": true
   },
   "outputs": [],
   "source": [
    "def getData(l):\n",
    "    user=[]\n",
    "    ht=[]\n",
    "    urls=[]\n",
    "    ment=[]\n",
    "    if not(type(l)==list):\n",
    "        return 'Null,Null,Null,Null'\n",
    "    for t in l:\n",
    "        user = t['user']['name']        \n",
    "        if bool (t['entities']['hashtags']) :  # if not empty\n",
    "            #get hashtags\n",
    "            for h in (t['entities']['hashtags']):\n",
    "                ht.append(h['text'])\n",
    "        if bool (t['entities']['urls']) :  # if not empty\n",
    "            #get urls\n",
    "            for u in (t['entities']['urls']):\n",
    "                urls.append(u['display_url'])\n",
    "        if bool (t['entities']['user_mentions']) :  # if not empty\n",
    "            #get mentions\n",
    "            for m in (t['entities']['user_mentions']):\n",
    "                ment.append(m['name'])\n",
    "    c = [user, ht, urls, ment]\n",
    "    return (c)"
   ]
  },
  {
   "cell_type": "code",
   "execution_count": 5,
   "metadata": {
    "collapsed": true
   },
   "outputs": [],
   "source": [
    "def generateData(json_df):\n",
    "    df = pd.DataFrame() #aux DataFrame\n",
    "    date = json_df.columns[0]\n",
    "    df['data'] = json_df[date].apply(getData) #Collect all attributes into a single column\n",
    "    df['User'] = df['data'].apply(lambda x: x[0])\n",
    "    df['Hashtags'] = df['data'].apply(lambda x: x[1])\n",
    "    df['Links'] = df['data'].apply(lambda x: x[2])\n",
    "    df['Mentions'] = df['data'].apply(lambda x: x[3])\n",
    "    df= df.drop('data', axis=1)\n",
    "    return df"
   ]
  },
  {
   "cell_type": "code",
   "execution_count": 6,
   "metadata": {
    "collapsed": true
   },
   "outputs": [],
   "source": [
    "def generateHTs(data):    \n",
    "    hashtags=pd.DataFrame()\n",
    "    hashtags['User']=np.NaN\n",
    "    hashtags['Hashtags']=np.NaN\n",
    "    for i in (data.index):\n",
    "        hts = data.loc[i]['Hashtags'] \n",
    "        user = [data.loc[i]['User']]*len(hts)\n",
    "        df = pd.DataFrame()\n",
    "        df['User']=user\n",
    "        df['Hashtags']=hts\n",
    "        hashtags=hashtags.append(df,ignore_index=True)\n",
    "    return (hashtags)"
   ]
  },
  {
   "cell_type": "code",
   "execution_count": 7,
   "metadata": {
    "collapsed": true
   },
   "outputs": [],
   "source": [
    "def generateLinks(data):    \n",
    "    links=pd.DataFrame()\n",
    "    links['User']=np.NaN\n",
    "    links['Links']=np.NaN\n",
    "    for i in (data.index):\n",
    "        lnks = data.loc[i]['Links'] \n",
    "        user = [data.loc[i]['User']]*len(lnks)\n",
    "        df = pd.DataFrame()\n",
    "        df['User']=user\n",
    "        df['Links']=lnks\n",
    "        links=links.append(df,ignore_index=True)\n",
    "    return (links)"
   ]
  },
  {
   "cell_type": "code",
   "execution_count": 8,
   "metadata": {
    "collapsed": true
   },
   "outputs": [],
   "source": [
    "def generateMentions(data):    \n",
    "    mentions=pd.DataFrame()\n",
    "    mentions['User']=np.NaN\n",
    "    mentions['Mentions']=np.NaN\n",
    "    for i in (data.index):\n",
    "        m = data.loc[i]['Mentions'] \n",
    "        user = [data.loc[i]['User']]*len(m)\n",
    "        df = pd.DataFrame()\n",
    "        df['User']=user\n",
    "        df['Mentions']=m\n",
    "        mentions=mentions.append(df,ignore_index=True)\n",
    "    return (mentions)"
   ]
  },
  {
   "cell_type": "code",
   "execution_count": 14,
   "metadata": {
    "collapsed": true
   },
   "outputs": [],
   "source": [
    "def generateGraphDB(json_df):\n",
    "    #Check this empty save_to, haven't tried it\n",
    "    save_to=''\n",
    "    data=generateData(json_df)\n",
    "    hts=generateHTs(data)\n",
    "    links=generateLinks(data)\n",
    "    mentions=generateMentions(data)\n",
    "    saveDataFrame(hts,path=save_to+'Hashtags.csv')\n",
    "    saveDataFrame(links,path=save_to+'Links.csv')\n",
    "    saveDataFrame(mentions,path=save_to+'Mentions.csv')  "
   ]
  },
  {
   "cell_type": "code",
   "execution_count": 10,
   "metadata": {
    "collapsed": true
   },
   "outputs": [],
   "source": [
    "file = loadJson('C:/Users/Raquel/Downloads/todaysTweets_2018-03-01.json')"
   ]
  },
  {
   "cell_type": "code",
   "execution_count": 17,
   "metadata": {
    "collapsed": true
   },
   "outputs": [],
   "source": [
    "generateGraphDB(file)"
   ]
  },
  {
   "cell_type": "code",
   "execution_count": 9,
   "metadata": {
    "collapsed": true,
    "scrolled": true
   },
   "outputs": [],
   "source": [
    "l1= file['2018-03-01'][80]"
   ]
  }
 ],
 "metadata": {
  "kernelspec": {
   "display_name": "Python 3",
   "language": "python",
   "name": "python3"
  },
  "language_info": {
   "codemirror_mode": {
    "name": "ipython",
    "version": 3
   },
   "file_extension": ".py",
   "mimetype": "text/x-python",
   "name": "python",
   "nbconvert_exporter": "python",
   "pygments_lexer": "ipython3",
   "version": "3.6.1"
  }
 },
 "nbformat": 4,
 "nbformat_minor": 2
}
