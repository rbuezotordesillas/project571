{
 "cells": [
  {
   "cell_type": "code",
   "execution_count": 2,
   "metadata": {},
   "outputs": [],
   "source": [
    "import numpy as np\n",
    "import pandas as pd\n",
    "from pathlib import Path\n",
    "from datetime import datetime"
   ]
  },
  {
   "cell_type": "markdown",
   "metadata": {},
   "source": [
    "# Merge Tweet data"
   ]
  },
  {
   "cell_type": "code",
   "execution_count": 27,
   "metadata": {},
   "outputs": [],
   "source": [
    "load_from = '../data collection/Data/ModelData/byDate'\n",
    "save_to = '../data collection/Data/ModelData/allTweets.csv'\n",
    "pathlist = Path(load_from).glob('todaysTweets_2018-*.csv')\n",
    "results = pd.DataFrame([])\n",
    "for p in pathlist:\n",
    "    file = pd.read_csv(p,sep=';')\n",
    "    results = results.append(file)\n",
    "results.to_csv(save_to,sep=';',index=False)"
   ]
  },
  {
   "cell_type": "markdown",
   "metadata": {},
   "source": [
    "# Check"
   ]
  },
  {
   "cell_type": "code",
   "execution_count": 28,
   "metadata": {},
   "outputs": [
    {
     "data": {
      "text/html": [
       "<div>\n",
       "<style scoped>\n",
       "    .dataframe tbody tr th:only-of-type {\n",
       "        vertical-align: middle;\n",
       "    }\n",
       "\n",
       "    .dataframe tbody tr th {\n",
       "        vertical-align: top;\n",
       "    }\n",
       "\n",
       "    .dataframe thead th {\n",
       "        text-align: right;\n",
       "    }\n",
       "</style>\n",
       "<table border=\"1\" class=\"dataframe\">\n",
       "  <thead>\n",
       "    <tr style=\"text-align: right;\">\n",
       "      <th></th>\n",
       "      <th>Account</th>\n",
       "      <th>nTweets</th>\n",
       "      <th>pHashtags</th>\n",
       "      <th>pMentions</th>\n",
       "      <th>pURLs</th>\n",
       "      <th>pMedia</th>\n",
       "      <th>pRTs</th>\n",
       "      <th>date</th>\n",
       "    </tr>\n",
       "  </thead>\n",
       "  <tbody>\n",
       "    <tr>\n",
       "      <th>0</th>\n",
       "      <td>bonappetit</td>\n",
       "      <td>24</td>\n",
       "      <td>0.0</td>\n",
       "      <td>0.0417</td>\n",
       "      <td>0.75</td>\n",
       "      <td>0.25</td>\n",
       "      <td>0.0</td>\n",
       "      <td>2018-02-24</td>\n",
       "    </tr>\n",
       "    <tr>\n",
       "      <th>1</th>\n",
       "      <td>NatGeoFood</td>\n",
       "      <td>0</td>\n",
       "      <td>0.0</td>\n",
       "      <td>0.0</td>\n",
       "      <td>0.0</td>\n",
       "      <td>0.0</td>\n",
       "      <td>0.0</td>\n",
       "      <td>2018-02-24</td>\n",
       "    </tr>\n",
       "    <tr>\n",
       "      <th>2</th>\n",
       "      <td>TwitterFood</td>\n",
       "      <td>0</td>\n",
       "      <td>0.0</td>\n",
       "      <td>0.0</td>\n",
       "      <td>0.0</td>\n",
       "      <td>0.0</td>\n",
       "      <td>0.0</td>\n",
       "      <td>2018-02-24</td>\n",
       "    </tr>\n",
       "    <tr>\n",
       "      <th>3</th>\n",
       "      <td>Fooddotcom</td>\n",
       "      <td>0</td>\n",
       "      <td>0.0</td>\n",
       "      <td>0.0</td>\n",
       "      <td>0.0</td>\n",
       "      <td>0.0</td>\n",
       "      <td>0.0</td>\n",
       "      <td>2018-02-24</td>\n",
       "    </tr>\n",
       "    <tr>\n",
       "      <th>4</th>\n",
       "      <td>newfoodeconomy</td>\n",
       "      <td>5</td>\n",
       "      <td>0.0</td>\n",
       "      <td>0.0</td>\n",
       "      <td>1.0</td>\n",
       "      <td>0.2</td>\n",
       "      <td>0.0</td>\n",
       "      <td>2018-02-24</td>\n",
       "    </tr>\n",
       "  </tbody>\n",
       "</table>\n",
       "</div>"
      ],
      "text/plain": [
       "          Account nTweets pHashtags pMentions pURLs pMedia pRTs        date\n",
       "0      bonappetit      24       0.0    0.0417  0.75   0.25  0.0  2018-02-24\n",
       "1      NatGeoFood       0       0.0       0.0   0.0    0.0  0.0  2018-02-24\n",
       "2     TwitterFood       0       0.0       0.0   0.0    0.0  0.0  2018-02-24\n",
       "3      Fooddotcom       0       0.0       0.0   0.0    0.0  0.0  2018-02-24\n",
       "4  newfoodeconomy       5       0.0       0.0   1.0    0.2  0.0  2018-02-24"
      ]
     },
     "execution_count": 28,
     "metadata": {},
     "output_type": "execute_result"
    }
   ],
   "source": [
    "path = '../data collection/Data/ModelData/allTweets.csv'\n",
    "file = pd.read_csv(path,sep=';')\n",
    "file.head()"
   ]
  },
  {
   "cell_type": "code",
   "execution_count": 29,
   "metadata": {},
   "outputs": [
    {
     "data": {
      "text/plain": [
       "181"
      ]
     },
     "execution_count": 29,
     "metadata": {},
     "output_type": "execute_result"
    }
   ],
   "source": [
    "len(file[file.date == '2018-02-24'])"
   ]
  },
  {
   "cell_type": "markdown",
   "metadata": {},
   "source": [
    "# Merge Followers"
   ]
  },
  {
   "cell_type": "code",
   "execution_count": 52,
   "metadata": {},
   "outputs": [],
   "source": [
    "path = '../data collection/Data/ModelData/Followers/todaysFollowers_all.csv'\n",
    "file = pd.read_csv(path,sep=';')\n",
    "melted = pd.melt(file,id_vars = ['Account'])\n",
    "#melted.names()\n",
    "melted.columns = ['Account', 'date', 'Followers']\n",
    "melted.date = melted.date.apply(lambda x: datetime.strptime(x,'%Y-%m-%d'))"
   ]
  },
  {
   "cell_type": "code",
   "execution_count": 53,
   "metadata": {},
   "outputs": [],
   "source": [
    "low = datetime.strptime('2018-02-23','%Y-%m-%d')\n",
    "high = datetime.strptime('2018-04-03','%Y-%m-%d')\n",
    "final = melted[melted['date']>low]\n",
    "final = final[final.date < high]"
   ]
  },
  {
   "cell_type": "code",
   "execution_count": 54,
   "metadata": {},
   "outputs": [],
   "source": [
    "save_to = '../data collection/Data/ModelData/allFollowers.csv'\n",
    "final.to_csv(save_to,sep=';',index=False)"
   ]
  },
  {
   "cell_type": "code",
   "execution_count": 55,
   "metadata": {},
   "outputs": [
    {
     "name": "stdout",
     "output_type": "stream",
     "text": [
      "181\n"
     ]
    },
    {
     "data": {
      "text/html": [
       "<div>\n",
       "<style scoped>\n",
       "    .dataframe tbody tr th:only-of-type {\n",
       "        vertical-align: middle;\n",
       "    }\n",
       "\n",
       "    .dataframe tbody tr th {\n",
       "        vertical-align: top;\n",
       "    }\n",
       "\n",
       "    .dataframe thead th {\n",
       "        text-align: right;\n",
       "    }\n",
       "</style>\n",
       "<table border=\"1\" class=\"dataframe\">\n",
       "  <thead>\n",
       "    <tr style=\"text-align: right;\">\n",
       "      <th></th>\n",
       "      <th>Account</th>\n",
       "      <th>date</th>\n",
       "      <th>Followers</th>\n",
       "    </tr>\n",
       "  </thead>\n",
       "  <tbody>\n",
       "    <tr>\n",
       "      <th>2353</th>\n",
       "      <td>bonappetit</td>\n",
       "      <td>2018-02-24</td>\n",
       "      <td>3191547.0</td>\n",
       "    </tr>\n",
       "    <tr>\n",
       "      <th>2354</th>\n",
       "      <td>NatGeoFood</td>\n",
       "      <td>2018-02-24</td>\n",
       "      <td>35479.0</td>\n",
       "    </tr>\n",
       "    <tr>\n",
       "      <th>2355</th>\n",
       "      <td>TwitterFood</td>\n",
       "      <td>2018-02-24</td>\n",
       "      <td>838307.0</td>\n",
       "    </tr>\n",
       "    <tr>\n",
       "      <th>2356</th>\n",
       "      <td>Fooddotcom</td>\n",
       "      <td>2018-02-24</td>\n",
       "      <td>28.0</td>\n",
       "    </tr>\n",
       "    <tr>\n",
       "      <th>2357</th>\n",
       "      <td>newfoodeconomy</td>\n",
       "      <td>2018-02-24</td>\n",
       "      <td>5905.0</td>\n",
       "    </tr>\n",
       "  </tbody>\n",
       "</table>\n",
       "</div>"
      ],
      "text/plain": [
       "             Account       date  Followers\n",
       "2353      bonappetit 2018-02-24  3191547.0\n",
       "2354      NatGeoFood 2018-02-24    35479.0\n",
       "2355     TwitterFood 2018-02-24   838307.0\n",
       "2356      Fooddotcom 2018-02-24       28.0\n",
       "2357  newfoodeconomy 2018-02-24     5905.0"
      ]
     },
     "execution_count": 55,
     "metadata": {},
     "output_type": "execute_result"
    }
   ],
   "source": [
    "print(len(file))\n",
    "final.head()"
   ]
  },
  {
   "cell_type": "markdown",
   "metadata": {},
   "source": [
    "# Merge Tweets and Followers"
   ]
  },
  {
   "cell_type": "code",
   "execution_count": 56,
   "metadata": {},
   "outputs": [],
   "source": [
    "followers_path = '../data collection/Data/ModelData/allFollowers.csv'\n",
    "data_path = '../data collection/Data/ModelData/allTweets.csv'\n",
    "followers = pd.read_csv(followers_path,sep=';')\n",
    "data = pd.read_csv(data_path,sep=';')"
   ]
  },
  {
   "cell_type": "code",
   "execution_count": 59,
   "metadata": {},
   "outputs": [],
   "source": [
    "modelData = data.merge(followers, how = 'inner', on=['Account','date'])"
   ]
  },
  {
   "cell_type": "code",
   "execution_count": 61,
   "metadata": {},
   "outputs": [],
   "source": [
    "save_to = '../data collection/Data/ModelData/modelData.csv'\n",
    "modelData.to_csv(save_to,sep=';',index=False)"
   ]
  },
  {
   "cell_type": "markdown",
   "metadata": {},
   "source": [
    "# Check"
   ]
  },
  {
   "cell_type": "code",
   "execution_count": 63,
   "metadata": {},
   "outputs": [
    {
     "name": "stdout",
     "output_type": "stream",
     "text": [
      "6878\n"
     ]
    },
    {
     "data": {
      "text/html": [
       "<div>\n",
       "<style scoped>\n",
       "    .dataframe tbody tr th:only-of-type {\n",
       "        vertical-align: middle;\n",
       "    }\n",
       "\n",
       "    .dataframe tbody tr th {\n",
       "        vertical-align: top;\n",
       "    }\n",
       "\n",
       "    .dataframe thead th {\n",
       "        text-align: right;\n",
       "    }\n",
       "</style>\n",
       "<table border=\"1\" class=\"dataframe\">\n",
       "  <thead>\n",
       "    <tr style=\"text-align: right;\">\n",
       "      <th></th>\n",
       "      <th>Account</th>\n",
       "      <th>nTweets</th>\n",
       "      <th>pHashtags</th>\n",
       "      <th>pMentions</th>\n",
       "      <th>pURLs</th>\n",
       "      <th>pMedia</th>\n",
       "      <th>pRTs</th>\n",
       "      <th>date</th>\n",
       "      <th>Followers</th>\n",
       "    </tr>\n",
       "  </thead>\n",
       "  <tbody>\n",
       "    <tr>\n",
       "      <th>0</th>\n",
       "      <td>bonappetit</td>\n",
       "      <td>24</td>\n",
       "      <td>0.0</td>\n",
       "      <td>0.0417</td>\n",
       "      <td>0.75</td>\n",
       "      <td>0.25</td>\n",
       "      <td>0.0</td>\n",
       "      <td>2018-02-24</td>\n",
       "      <td>3191547.0</td>\n",
       "    </tr>\n",
       "    <tr>\n",
       "      <th>1</th>\n",
       "      <td>NatGeoFood</td>\n",
       "      <td>0</td>\n",
       "      <td>0.0</td>\n",
       "      <td>0.0</td>\n",
       "      <td>0.0</td>\n",
       "      <td>0.0</td>\n",
       "      <td>0.0</td>\n",
       "      <td>2018-02-24</td>\n",
       "      <td>35479.0</td>\n",
       "    </tr>\n",
       "    <tr>\n",
       "      <th>2</th>\n",
       "      <td>TwitterFood</td>\n",
       "      <td>0</td>\n",
       "      <td>0.0</td>\n",
       "      <td>0.0</td>\n",
       "      <td>0.0</td>\n",
       "      <td>0.0</td>\n",
       "      <td>0.0</td>\n",
       "      <td>2018-02-24</td>\n",
       "      <td>838307.0</td>\n",
       "    </tr>\n",
       "    <tr>\n",
       "      <th>3</th>\n",
       "      <td>Fooddotcom</td>\n",
       "      <td>0</td>\n",
       "      <td>0.0</td>\n",
       "      <td>0.0</td>\n",
       "      <td>0.0</td>\n",
       "      <td>0.0</td>\n",
       "      <td>0.0</td>\n",
       "      <td>2018-02-24</td>\n",
       "      <td>28.0</td>\n",
       "    </tr>\n",
       "    <tr>\n",
       "      <th>4</th>\n",
       "      <td>newfoodeconomy</td>\n",
       "      <td>5</td>\n",
       "      <td>0.0</td>\n",
       "      <td>0.0</td>\n",
       "      <td>1.0</td>\n",
       "      <td>0.2</td>\n",
       "      <td>0.0</td>\n",
       "      <td>2018-02-24</td>\n",
       "      <td>5905.0</td>\n",
       "    </tr>\n",
       "  </tbody>\n",
       "</table>\n",
       "</div>"
      ],
      "text/plain": [
       "          Account nTweets pHashtags pMentions pURLs pMedia pRTs        date  \\\n",
       "0      bonappetit      24       0.0    0.0417  0.75   0.25  0.0  2018-02-24   \n",
       "1      NatGeoFood       0       0.0       0.0   0.0    0.0  0.0  2018-02-24   \n",
       "2     TwitterFood       0       0.0       0.0   0.0    0.0  0.0  2018-02-24   \n",
       "3      Fooddotcom       0       0.0       0.0   0.0    0.0  0.0  2018-02-24   \n",
       "4  newfoodeconomy       5       0.0       0.0   1.0    0.2  0.0  2018-02-24   \n",
       "\n",
       "   Followers  \n",
       "0  3191547.0  \n",
       "1    35479.0  \n",
       "2   838307.0  \n",
       "3       28.0  \n",
       "4     5905.0  "
      ]
     },
     "execution_count": 63,
     "metadata": {},
     "output_type": "execute_result"
    }
   ],
   "source": [
    "path = '../data collection/Data/ModelData/modelData.csv'\n",
    "file = pd.read_csv(path,sep=';')\n",
    "print(len(file))\n",
    "file.head()"
   ]
  }
 ],
 "metadata": {
  "kernelspec": {
   "display_name": "Python 3",
   "language": "python",
   "name": "python3"
  },
  "language_info": {
   "codemirror_mode": {
    "name": "ipython",
    "version": 3
   },
   "file_extension": ".py",
   "mimetype": "text/x-python",
   "name": "python",
   "nbconvert_exporter": "python",
   "pygments_lexer": "ipython3",
   "version": "3.6.3"
  }
 },
 "nbformat": 4,
 "nbformat_minor": 2
}
