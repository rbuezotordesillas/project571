{
 "cells": [
  {
   "cell_type": "code",
   "execution_count": 1,
   "metadata": {},
   "outputs": [],
   "source": [
    "import numpy as np\n",
    "import pandas as pd\n",
    "import json\n",
    "from pathlib import Path\n",
    "import re\n",
    "import sys"
   ]
  },
  {
   "cell_type": "code",
   "execution_count": 2,
   "metadata": {},
   "outputs": [],
   "source": [
    "# helper functions\n",
    "def loadJson(path):\n",
    "    '''returns datarfame from json file'''\n",
    "    with open(path,'r') as fp: #load historic tweets\n",
    "        tweets_json = json.load(fp)\n",
    "    return pd.read_json(tweets_json)\n",
    "def saveText(dictionary,path):\n",
    "    '''save texts stored as values of a dictionary with their keys as file name'''\n",
    "    for category in dictionary:\n",
    "        with open(path+category+'.txt', \"w\",encoding=\"utf-8\") as text_file:\n",
    "            text_file.write(dictionary[category])\n",
    "class progress_bar(object):\n",
    "    def __init__(self,length,startingValue = 0):\n",
    "        self.length = length\n",
    "        self.progress = startingValue\n",
    "    def increase(self,by = 1):\n",
    "        self.progress += 1/self.length\n",
    "        self.update_progress(self.progress)\n",
    "    def update_progress(self,progress):\n",
    "        barLength = 10 # Modify this to change the length of the progress bar\n",
    "        status = \"\"\n",
    "        if isinstance(progress, int):\n",
    "            progress = float(progress)\n",
    "        if not isinstance(progress, float):\n",
    "            progress = 0\n",
    "            status = \"error: progress var must be float\\r\\n\"\n",
    "        if progress < 0:\n",
    "            progress = 0\n",
    "            status = \"Halt...\\r\\n\"\n",
    "        if progress >= 1:\n",
    "            progress = 1\n",
    "            status = \"Done...\\r\\n\"\n",
    "        block = int(round(barLength*progress))\n",
    "        text = \"\\rPercent: [{0}] {1}% {2}\".format( \"#\"*block + \"-\"*(barLength-block), round(progress*100,2), status)\n",
    "        sys.stdout.write(text)\n",
    "        sys.stdout.flush()"
   ]
  },
  {
   "cell_type": "code",
   "execution_count": 3,
   "metadata": {},
   "outputs": [],
   "source": [
    "#text extraction functions\n",
    "def getText(l):\n",
    "    if not(type(l)==list):\n",
    "        return ''\n",
    "    t = ''\n",
    "    for e in l:\n",
    "        t += e['text'].split('http')[0]\n",
    "    return t\n",
    "    #return re.sub(r'(\\s)@\\w+', r'\\1', t) #if we finally remove mentions\n",
    "def getCategoryText(l):\n",
    "    catText = ''\n",
    "    for e in l:\n",
    "        catText += getText(e)\n",
    "        catText += '\\n'\n",
    "    return catText"
   ]
  },
  {
   "cell_type": "code",
   "execution_count": 4,
   "metadata": {},
   "outputs": [],
   "source": [
    "#load accounts\n",
    "accounts = pd.read_csv('../data collection/Data/accounts.csv',sep=';')\n",
    "accounts.loc[accounts.Category == 'Funny/Entertainment','Category'] = 'Funny&Entertainment' #/ is problematic when saving"
   ]
  },
  {
   "cell_type": "code",
   "execution_count": 5,
   "metadata": {},
   "outputs": [],
   "source": [
    "#initialize results\n",
    "categoryTexts = {cat:'' for cat in accounts.Category.unique()}"
   ]
  },
  {
   "cell_type": "code",
   "execution_count": 6,
   "metadata": {},
   "outputs": [
    {
     "name": "stdout",
     "output_type": "stream",
     "text": [
      "\r",
      "Percent: [##########] 100% Done...\r\n"
     ]
    }
   ],
   "source": [
    "load_from = '../data collection/Data/ModelData/Tweets'\n",
    "pathlist = list(Path(load_from).glob('*-04-20.json'))\n",
    "pb = progress_bar(len(pathlist))\n",
    "for path in pathlist:\n",
    "    date = path.name[13:-5]\n",
    "    tweets = loadJson(path)\n",
    "    merged = pd.merge(accounts,tweets,on='Account')\n",
    "    for cat in categoryTexts:\n",
    "        categoryTexts[cat] += getCategoryText(merged[merged.Category == cat][date])\n",
    "    pb.increase()"
   ]
  },
  {
   "cell_type": "code",
   "execution_count": 7,
   "metadata": {},
   "outputs": [],
   "source": [
    "save_to = 'Texts/'\n",
    "saveText(categoryTexts, save_to)"
   ]
  },
  {
   "cell_type": "code",
   "execution_count": null,
   "metadata": {},
   "outputs": [],
   "source": []
  }
 ],
 "metadata": {
  "kernelspec": {
   "display_name": "Python 3",
   "language": "python",
   "name": "python3"
  },
  "language_info": {
   "codemirror_mode": {
    "name": "ipython",
    "version": 3
   },
   "file_extension": ".py",
   "mimetype": "text/x-python",
   "name": "python",
   "nbconvert_exporter": "python",
   "pygments_lexer": "ipython3",
   "version": "3.6.3"
  }
 },
 "nbformat": 4,
 "nbformat_minor": 2
}
