{
 "cells": [
  {
   "cell_type": "code",
   "execution_count": 1,
   "metadata": {},
   "outputs": [],
   "source": [
    "import numpy as np\n",
    "import pandas as pd\n",
    "import json\n",
    "from datetime import datetime,timedelta\n",
    "from pytz import timezone"
   ]
  },
  {
   "cell_type": "code",
   "execution_count": 2,
   "metadata": {},
   "outputs": [],
   "source": [
    "with open('../data collection/Data/NoDup/todaysTweets_2018-02-24.json','r') as fp: #load historic tweets\n",
    "    test_json = json.load(fp)\n",
    "test = pd.read_json(test_json)"
   ]
  },
  {
   "cell_type": "code",
   "execution_count": 3,
   "metadata": {},
   "outputs": [],
   "source": [
    "def getData(l):\n",
    "    nTweets = len(l)\n",
    "    if nTweets == 0:\n",
    "        return '0,0,0,0,0,0'\n",
    "    nHashtags = 0\n",
    "    nMentions = 0\n",
    "    nURLs = 0\n",
    "    nMedia = 0\n",
    "    nRT = 0\n",
    "    for t in l:\n",
    "        if bool (t['entities']['hashtags']) :\n",
    "            nHashtags += 1\n",
    "        if bool (t['entities']['user_mentions']) :\n",
    "            nMentions += 1\n",
    "        if bool (t['entities']['urls']) :\n",
    "            nURLs += 1\n",
    "        if 'media' in t['entities']:\n",
    "            nMedia += 1\n",
    "        if 'retweeted_status' in t:\n",
    "            nRT += 1\n",
    "    r = [nTweets,nHashtags/nTweets,nMentions/nTweets,nURLs/nTweets,nMedia/nTweets,nRT/nTweets]\n",
    "    r = [round(x,4) for x in r]\n",
    "    return ','.join(str(e) for e in r)"
   ]
  },
  {
   "cell_type": "code",
   "execution_count": 4,
   "metadata": {},
   "outputs": [],
   "source": [
    "df = pd.DataFrame()\n",
    "df['data'] = test['2018-02-24'].apply(getData)\n",
    "df = df.data.str.split(',',expand=True)\n",
    "df.columns = ['nTweets','pHashtags', 'pMentions', 'pURLs', 'pMedia', 'pRTs']"
   ]
  },
  {
   "cell_type": "code",
   "execution_count": 5,
   "metadata": {},
   "outputs": [
    {
     "data": {
      "text/html": [
       "<div>\n",
       "<style scoped>\n",
       "    .dataframe tbody tr th:only-of-type {\n",
       "        vertical-align: middle;\n",
       "    }\n",
       "\n",
       "    .dataframe tbody tr th {\n",
       "        vertical-align: top;\n",
       "    }\n",
       "\n",
       "    .dataframe thead th {\n",
       "        text-align: right;\n",
       "    }\n",
       "</style>\n",
       "<table border=\"1\" class=\"dataframe\">\n",
       "  <thead>\n",
       "    <tr style=\"text-align: right;\">\n",
       "      <th></th>\n",
       "      <th>nTweets</th>\n",
       "      <th>pHashtags</th>\n",
       "      <th>pMentions</th>\n",
       "      <th>pURLs</th>\n",
       "      <th>pMedia</th>\n",
       "      <th>pRTs</th>\n",
       "    </tr>\n",
       "  </thead>\n",
       "  <tbody>\n",
       "    <tr>\n",
       "      <th>0</th>\n",
       "      <td>24</td>\n",
       "      <td>0.0</td>\n",
       "      <td>0.0417</td>\n",
       "      <td>0.75</td>\n",
       "      <td>0.25</td>\n",
       "      <td>0.0</td>\n",
       "    </tr>\n",
       "    <tr>\n",
       "      <th>1</th>\n",
       "      <td>0</td>\n",
       "      <td>0</td>\n",
       "      <td>0</td>\n",
       "      <td>0</td>\n",
       "      <td>0</td>\n",
       "      <td>0</td>\n",
       "    </tr>\n",
       "    <tr>\n",
       "      <th>2</th>\n",
       "      <td>0</td>\n",
       "      <td>0</td>\n",
       "      <td>0</td>\n",
       "      <td>0</td>\n",
       "      <td>0</td>\n",
       "      <td>0</td>\n",
       "    </tr>\n",
       "    <tr>\n",
       "      <th>3</th>\n",
       "      <td>0</td>\n",
       "      <td>0</td>\n",
       "      <td>0</td>\n",
       "      <td>0</td>\n",
       "      <td>0</td>\n",
       "      <td>0</td>\n",
       "    </tr>\n",
       "    <tr>\n",
       "      <th>4</th>\n",
       "      <td>5</td>\n",
       "      <td>0.0</td>\n",
       "      <td>0.0</td>\n",
       "      <td>1.0</td>\n",
       "      <td>0.2</td>\n",
       "      <td>0.0</td>\n",
       "    </tr>\n",
       "  </tbody>\n",
       "</table>\n",
       "</div>"
      ],
      "text/plain": [
       "  nTweets pHashtags pMentions pURLs pMedia pRTs\n",
       "0      24       0.0    0.0417  0.75   0.25  0.0\n",
       "1       0         0         0     0      0    0\n",
       "2       0         0         0     0      0    0\n",
       "3       0         0         0     0      0    0\n",
       "4       5       0.0       0.0   1.0    0.2  0.0"
      ]
     },
     "execution_count": 5,
     "metadata": {},
     "output_type": "execute_result"
    }
   ],
   "source": [
    "df.head()"
   ]
  },
  {
   "cell_type": "code",
   "execution_count": 7,
   "metadata": {},
   "outputs": [],
   "source": [
    "test = test.join(df)"
   ]
  },
  {
   "cell_type": "code",
   "execution_count": 13,
   "metadata": {},
   "outputs": [],
   "source": [
    "test['date'] = test.columns[0]"
   ]
  },
  {
   "cell_type": "code",
   "execution_count": null,
   "metadata": {},
   "outputs": [],
   "source": [
    "test.drop(0)"
   ]
  }
 ],
 "metadata": {
  "kernelspec": {
   "display_name": "Python 3",
   "language": "python",
   "name": "python3"
  },
  "language_info": {
   "codemirror_mode": {
    "name": "ipython",
    "version": 3
   },
   "file_extension": ".py",
   "mimetype": "text/x-python",
   "name": "python",
   "nbconvert_exporter": "python",
   "pygments_lexer": "ipython3",
   "version": "3.6.3"
  }
 },
 "nbformat": 4,
 "nbformat_minor": 2
}
