{
 "cells": [
  {
   "cell_type": "code",
   "execution_count": 1,
   "metadata": {},
   "outputs": [],
   "source": [
    "import numpy as np\n",
    "import pandas as pd\n",
    "import json\n",
    "#from datetime import datetime,timedelta\n",
    "#from pytz import timezone\n",
    "from pathlib import Path"
   ]
  },
  {
   "cell_type": "code",
   "execution_count": 2,
   "metadata": {},
   "outputs": [],
   "source": [
    "def loadJson(path):\n",
    "    '''returns datarfame from json file'''\n",
    "    with open(path,'r') as fp: #load historic tweets\n",
    "        tweets_json = json.load(fp)\n",
    "    return pd.read_json(tweets_json)"
   ]
  },
  {
   "cell_type": "code",
   "execution_count": 3,
   "metadata": {},
   "outputs": [],
   "source": [
    "def saveDataFrame(df,path):\n",
    "    '''save DataFerame in csv format'''\n",
    "    df.to_csv(path,sep=';',index=False, encoding=\"utf-8\")"
   ]
  },
  {
   "cell_type": "code",
   "execution_count": 4,
   "metadata": {},
   "outputs": [],
   "source": [
    "def getData(l):\n",
    "    if not(type(l)==list):\n",
    "        return 'Null,Null,Null,Null,Null,Null'\n",
    "    nTweets = len(l)\n",
    "    if nTweets == 0:\n",
    "        return '0,0,0,0,0,0'\n",
    "    nHashtags = 0\n",
    "    nMentions = 0\n",
    "    nURLs = 0\n",
    "    nMedia = 0\n",
    "    nRT = 0\n",
    "    for t in l:\n",
    "        if bool (t['entities']['hashtags']) :\n",
    "            nHashtags += 1\n",
    "        if bool (t['entities']['user_mentions']) :\n",
    "            nMentions += 1\n",
    "        if bool (t['entities']['urls']) :\n",
    "            nURLs += 1\n",
    "        if 'media' in t['entities']:\n",
    "            nMedia += 1\n",
    "        if 'retweeted_status' in t:\n",
    "            nRT += 1\n",
    "    r = [nTweets,nHashtags/nTweets,nMentions/nTweets,nURLs/nTweets,nMedia/nTweets,nRT/nTweets]\n",
    "    r = [round(x,4) for x in r]\n",
    "    return ','.join(str(e) for e in r)"
   ]
  },
  {
   "cell_type": "code",
   "execution_count": 5,
   "metadata": {},
   "outputs": [],
   "source": [
    "def generateModelData(json_df):\n",
    "    df = pd.DataFrame() #aux DataFrame\n",
    "    date = json_df.columns[0]\n",
    "    df['data'] = json_df[date].apply(getData) #Collect all attributes into a single column\n",
    "    df = df.data.str.split(',',expand=True) #split into different columns\n",
    "    df.columns = ['nTweets','pHashtags', 'pMentions', 'pURLs', 'pMedia', 'pRTs']\n",
    "    json_df = json_df.join(df) #join to main DataFrame\n",
    "    json_df['date'] = date #add date\n",
    "    json_df = json_df.drop(columns = [date], axis =1) #drop tweet list\n",
    "    return json_df"
   ]
  },
  {
   "cell_type": "code",
   "execution_count": 9,
   "metadata": {},
   "outputs": [
    {
     "name": "stdout",
     "output_type": "stream",
     "text": [
      "    2018-04-03          Account\n",
      "49        None       Earth_Pics\n",
      "146       None  fabulousanimals\n",
      "    2018-04-04          Account\n",
      "49        None       Earth_Pics\n",
      "146       None  fabulousanimals\n",
      "    2018-04-05          Account\n",
      "49        None       Earth_Pics\n",
      "146       None  fabulousanimals\n",
      "    2018-04-06          Account\n",
      "49        None       Earth_Pics\n",
      "146       None  fabulousanimals\n",
      "    2018-04-07          Account\n",
      "49        None       Earth_Pics\n",
      "146       None  fabulousanimals\n",
      "    2018-04-08          Account\n",
      "49        None       Earth_Pics\n",
      "146       None  fabulousanimals\n",
      "    2018-04-09          Account\n",
      "49        None       Earth_Pics\n",
      "146       None  fabulousanimals\n",
      "    2018-04-10          Account\n",
      "49        None       Earth_Pics\n",
      "146       None  fabulousanimals\n",
      "    2018-04-11          Account\n",
      "49        None       Earth_Pics\n",
      "146       None  fabulousanimals\n",
      "    2018-04-12          Account\n",
      "49        None       Earth_Pics\n",
      "146       None  fabulousanimals\n",
      "    2018-04-13          Account\n",
      "49        None       Earth_Pics\n",
      "146       None  fabulousanimals\n",
      "    2018-04-14          Account\n",
      "49        None       Earth_Pics\n",
      "146       None  fabulousanimals\n",
      "    2018-04-15          Account\n",
      "49        None       Earth_Pics\n",
      "146       None  fabulousanimals\n",
      "    2018-04-16          Account\n",
      "49        None       Earth_Pics\n",
      "146       None  fabulousanimals\n",
      "    2018-04-17          Account\n",
      "49        None       Earth_Pics\n",
      "146       None  fabulousanimals\n",
      "    2018-04-18          Account\n",
      "49        None       Earth_Pics\n",
      "146       None  fabulousanimals\n",
      "    2018-04-19          Account\n",
      "49        None       Earth_Pics\n",
      "146       None  fabulousanimals\n",
      "    2018-04-20          Account\n",
      "49        None       Earth_Pics\n",
      "146       None  fabulousanimals\n",
      "    2018-04-21          Account\n",
      "49        None       Earth_Pics\n",
      "146       None  fabulousanimals\n"
     ]
    }
   ],
   "source": [
    "load_from = '../data collection/Data/ModelData/Tweets'\n",
    "save_to = '../data collection/Data/ModelData/byDate/'\n",
    "pathlist = Path(load_from).glob('*.json')\n",
    "for p in pathlist:\n",
    "    tweets = loadJson(p)\n",
    "    date = p.name[13:-5]\n",
    "    if tweets[date].isnull().any():\n",
    "        print(tweets[tweets[date].isnull()])\n",
    "    modelData = generateModelData(tweets)\n",
    "    saveDataFrame(modelData,path=save_to+p.name[:-5]+'.csv')"
   ]
  }
 ],
 "metadata": {
  "kernelspec": {
   "display_name": "Python 3",
   "language": "python",
   "name": "python3"
  },
  "language_info": {
   "codemirror_mode": {
    "name": "ipython",
    "version": 3
   },
   "file_extension": ".py",
   "mimetype": "text/x-python",
   "name": "python",
   "nbconvert_exporter": "python",
   "pygments_lexer": "ipython3",
   "version": "3.6.3"
  }
 },
 "nbformat": 4,
 "nbformat_minor": 2
}
