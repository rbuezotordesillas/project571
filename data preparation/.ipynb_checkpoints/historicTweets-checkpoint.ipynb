{
 "cells": [
  {
   "cell_type": "code",
   "execution_count": 1,
   "metadata": {},
   "outputs": [],
   "source": [
    "import numpy as np\n",
    "import pandas as pd\n",
    "import json\n",
    "#from datetime import datetime,timedelta\n",
    "#from pytz import timezone\n",
    "from pathlib import Path"
   ]
  },
  {
   "cell_type": "markdown",
   "metadata": {},
   "source": [
    "# Create historic Tweets"
   ]
  },
  {
   "cell_type": "code",
   "execution_count": 18,
   "metadata": {},
   "outputs": [],
   "source": [
    "load_from = '../data collection/Data/ModelData/byDate'\n",
    "save_to = '../data collection/Data/ModelData/historicTweets.csv'\n",
    "pathlist = Path(load_from).glob('todaysTweets_2018-*.csv')\n",
    "path = \"D:/Users/Edu/Documents/CodeRepository/project571/data collection/Data/ModelData/accounts.csv\"\n",
    "test = pd.read_csv(path, sep=';')\n",
    "result = test.iloc[:,0:1]\n",
    "for p in pathlist:\n",
    "    file = pd.read_csv(p, sep=';')\n",
    "    date = file.date[1]\n",
    "    df = file.iloc[:,1:2]\n",
    "    df.columns =[date]\n",
    "    result = pd.concat([result, df], axis=1)\n",
    "result.to_csv(save_to, sep=';', index = False) "
   ]
  }
 ],
 "metadata": {
  "kernelspec": {
   "display_name": "Python 3",
   "language": "python",
   "name": "python3"
  },
  "language_info": {
   "codemirror_mode": {
    "name": "ipython",
    "version": 3
   },
   "file_extension": ".py",
   "mimetype": "text/x-python",
   "name": "python",
   "nbconvert_exporter": "python",
   "pygments_lexer": "ipython3",
   "version": "3.6.3"
  }
 },
 "nbformat": 4,
 "nbformat_minor": 2
}
