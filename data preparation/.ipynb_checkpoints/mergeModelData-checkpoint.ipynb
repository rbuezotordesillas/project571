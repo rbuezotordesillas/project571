{
 "cells": [
  {
   "cell_type": "code",
   "execution_count": 1,
   "metadata": {},
   "outputs": [],
   "source": [
    "import numpy as np\n",
    "import pandas as pd\n",
    "from pathlib import Path\n",
    "from datetime import datetime"
   ]
  },
  {
   "cell_type": "markdown",
   "metadata": {},
   "source": [
    "# Merge Tweet data"
   ]
  },
  {
   "cell_type": "code",
   "execution_count": 4,
   "metadata": {},
   "outputs": [],
   "source": [
    "load_from = '../data collection/Data/ModelData/byDate'\n",
    "save_to = '../data collection/Data/ModelData/allTweets2.csv'\n",
    "pathlist = Path(load_from).glob('todaysTweets_2018-*.csv')\n",
    "results = pd.DataFrame([])\n",
    "for p in pathlist:\n",
    "    file = pd.read_csv(p,sep=';')\n",
    "    results = results.append(file)\n",
    "results.to_csv(save_to,sep=';',index=False)"
   ]
  },
  {
   "cell_type": "markdown",
   "metadata": {},
   "source": [
    "# Check"
   ]
  },
  {
   "cell_type": "code",
   "execution_count": 5,
   "metadata": {},
   "outputs": [
    {
     "data": {
      "text/html": [
       "<div>\n",
       "<style scoped>\n",
       "    .dataframe tbody tr th:only-of-type {\n",
       "        vertical-align: middle;\n",
       "    }\n",
       "\n",
       "    .dataframe tbody tr th {\n",
       "        vertical-align: top;\n",
       "    }\n",
       "\n",
       "    .dataframe thead th {\n",
       "        text-align: right;\n",
       "    }\n",
       "</style>\n",
       "<table border=\"1\" class=\"dataframe\">\n",
       "  <thead>\n",
       "    <tr style=\"text-align: right;\">\n",
       "      <th></th>\n",
       "      <th>Account</th>\n",
       "      <th>nTweets</th>\n",
       "      <th>pHashtags</th>\n",
       "      <th>pMentions</th>\n",
       "      <th>pURLs</th>\n",
       "      <th>pMedia</th>\n",
       "      <th>pRTs</th>\n",
       "      <th>date</th>\n",
       "    </tr>\n",
       "  </thead>\n",
       "  <tbody>\n",
       "    <tr>\n",
       "      <th>0</th>\n",
       "      <td>bonappetit</td>\n",
       "      <td>24</td>\n",
       "      <td>0.0</td>\n",
       "      <td>0.0417</td>\n",
       "      <td>0.75</td>\n",
       "      <td>0.25</td>\n",
       "      <td>0.0</td>\n",
       "      <td>2018-02-24</td>\n",
       "    </tr>\n",
       "    <tr>\n",
       "      <th>1</th>\n",
       "      <td>NatGeoFood</td>\n",
       "      <td>0</td>\n",
       "      <td>0.0</td>\n",
       "      <td>0.0</td>\n",
       "      <td>0.0</td>\n",
       "      <td>0.0</td>\n",
       "      <td>0.0</td>\n",
       "      <td>2018-02-24</td>\n",
       "    </tr>\n",
       "    <tr>\n",
       "      <th>2</th>\n",
       "      <td>TwitterFood</td>\n",
       "      <td>0</td>\n",
       "      <td>0.0</td>\n",
       "      <td>0.0</td>\n",
       "      <td>0.0</td>\n",
       "      <td>0.0</td>\n",
       "      <td>0.0</td>\n",
       "      <td>2018-02-24</td>\n",
       "    </tr>\n",
       "    <tr>\n",
       "      <th>3</th>\n",
       "      <td>Fooddotcom</td>\n",
       "      <td>0</td>\n",
       "      <td>0.0</td>\n",
       "      <td>0.0</td>\n",
       "      <td>0.0</td>\n",
       "      <td>0.0</td>\n",
       "      <td>0.0</td>\n",
       "      <td>2018-02-24</td>\n",
       "    </tr>\n",
       "    <tr>\n",
       "      <th>4</th>\n",
       "      <td>newfoodeconomy</td>\n",
       "      <td>5</td>\n",
       "      <td>0.0</td>\n",
       "      <td>0.0</td>\n",
       "      <td>1.0</td>\n",
       "      <td>0.2</td>\n",
       "      <td>0.0</td>\n",
       "      <td>2018-02-24</td>\n",
       "    </tr>\n",
       "  </tbody>\n",
       "</table>\n",
       "</div>"
      ],
      "text/plain": [
       "          Account nTweets pHashtags pMentions pURLs pMedia pRTs        date\n",
       "0      bonappetit      24       0.0    0.0417  0.75   0.25  0.0  2018-02-24\n",
       "1      NatGeoFood       0       0.0       0.0   0.0    0.0  0.0  2018-02-24\n",
       "2     TwitterFood       0       0.0       0.0   0.0    0.0  0.0  2018-02-24\n",
       "3      Fooddotcom       0       0.0       0.0   0.0    0.0  0.0  2018-02-24\n",
       "4  newfoodeconomy       5       0.0       0.0   1.0    0.2  0.0  2018-02-24"
      ]
     },
     "execution_count": 5,
     "metadata": {},
     "output_type": "execute_result"
    }
   ],
   "source": [
    "path = '../data collection/Data/ModelData/allTweets2.csv'\n",
    "file = pd.read_csv(path,sep=';')\n",
    "file.head()"
   ]
  },
  {
   "cell_type": "code",
   "execution_count": 6,
   "metadata": {},
   "outputs": [
    {
     "data": {
      "text/plain": [
       "10317"
      ]
     },
     "execution_count": 6,
     "metadata": {},
     "output_type": "execute_result"
    }
   ],
   "source": [
    "len(file)"
   ]
  },
  {
   "cell_type": "markdown",
   "metadata": {},
   "source": [
    "# Merge Followers"
   ]
  },
  {
   "cell_type": "code",
   "execution_count": 12,
   "metadata": {},
   "outputs": [],
   "source": [
    "path = '../data collection/Data/ModelData/Followers/todaysFollowers_all.csv'\n",
    "file = pd.read_csv(path,sep=';')\n",
    "file = pd.DataFrame.drop_duplicates(file,subset=\"Account\")\n",
    "melted = pd.melt(file,id_vars = ['Account'])\n",
    "#melted.names()\n",
    "melted.columns = ['Account', 'date', 'Followers']\n",
    "melted.date = melted.date.apply(lambda x: datetime.strptime(x,'%Y-%m-%d'))"
   ]
  },
  {
   "cell_type": "code",
   "execution_count": 14,
   "metadata": {},
   "outputs": [],
   "source": [
    "low = datetime.strptime('2018-02-23','%Y-%m-%d')\n",
    "#high = datetime.strptime('2018-04-03','%Y-%m-%d')\n",
    "final = melted[melted['date']>low]\n",
    "#final = final[final.date < high]"
   ]
  },
  {
   "cell_type": "code",
   "execution_count": 16,
   "metadata": {},
   "outputs": [],
   "source": [
    "save_to = '../data collection/Data/ModelData/allFollowers.csv'\n",
    "final.to_csv(save_to,sep=';',index=False)"
   ]
  },
  {
   "cell_type": "code",
   "execution_count": 13,
   "metadata": {},
   "outputs": [
    {
     "name": "stdout",
     "output_type": "stream",
     "text": [
      "181\n"
     ]
    },
    {
     "data": {
      "text/html": [
       "<div>\n",
       "<style scoped>\n",
       "    .dataframe tbody tr th:only-of-type {\n",
       "        vertical-align: middle;\n",
       "    }\n",
       "\n",
       "    .dataframe tbody tr th {\n",
       "        vertical-align: top;\n",
       "    }\n",
       "\n",
       "    .dataframe thead th {\n",
       "        text-align: right;\n",
       "    }\n",
       "</style>\n",
       "<table border=\"1\" class=\"dataframe\">\n",
       "  <thead>\n",
       "    <tr style=\"text-align: right;\">\n",
       "      <th></th>\n",
       "      <th>Account</th>\n",
       "      <th>date</th>\n",
       "      <th>Followers</th>\n",
       "    </tr>\n",
       "  </thead>\n",
       "  <tbody>\n",
       "    <tr>\n",
       "      <th>2392</th>\n",
       "      <td>bonappetit</td>\n",
       "      <td>2018-02-24</td>\n",
       "      <td>3191547.0</td>\n",
       "    </tr>\n",
       "    <tr>\n",
       "      <th>2393</th>\n",
       "      <td>NatGeoFood</td>\n",
       "      <td>2018-02-24</td>\n",
       "      <td>35479.0</td>\n",
       "    </tr>\n",
       "    <tr>\n",
       "      <th>2394</th>\n",
       "      <td>TwitterFood</td>\n",
       "      <td>2018-02-24</td>\n",
       "      <td>838307.0</td>\n",
       "    </tr>\n",
       "    <tr>\n",
       "      <th>2395</th>\n",
       "      <td>Fooddotcom</td>\n",
       "      <td>2018-02-24</td>\n",
       "      <td>28.0</td>\n",
       "    </tr>\n",
       "    <tr>\n",
       "      <th>2396</th>\n",
       "      <td>newfoodeconomy</td>\n",
       "      <td>2018-02-24</td>\n",
       "      <td>5905.0</td>\n",
       "    </tr>\n",
       "  </tbody>\n",
       "</table>\n",
       "</div>"
      ],
      "text/plain": [
       "             Account       date  Followers\n",
       "2392      bonappetit 2018-02-24  3191547.0\n",
       "2393      NatGeoFood 2018-02-24    35479.0\n",
       "2394     TwitterFood 2018-02-24   838307.0\n",
       "2395      Fooddotcom 2018-02-24       28.0\n",
       "2396  newfoodeconomy 2018-02-24     5905.0"
      ]
     },
     "execution_count": 13,
     "metadata": {},
     "output_type": "execute_result"
    }
   ],
   "source": [
    "print(len(file))\n",
    "final.head()"
   ]
  },
  {
   "cell_type": "code",
   "execution_count": 15,
   "metadata": {},
   "outputs": [
    {
     "name": "stdout",
     "output_type": "stream",
     "text": [
      "10317\n"
     ]
    }
   ],
   "source": [
    "print(len(final))"
   ]
  },
  {
   "cell_type": "markdown",
   "metadata": {},
   "source": [
    "# Merge Tweets and Followers"
   ]
  },
  {
   "cell_type": "code",
   "execution_count": 17,
   "metadata": {},
   "outputs": [],
   "source": [
    "followers_path = '../data collection/Data/ModelData/allFollowers.csv'\n",
    "data_path = '../data collection/Data/ModelData/allTweets2.csv'\n",
    "followers = pd.read_csv(followers_path,sep=';')\n",
    "data = pd.read_csv(data_path,sep=';')"
   ]
  },
  {
   "cell_type": "code",
   "execution_count": 18,
   "metadata": {},
   "outputs": [],
   "source": [
    "modelData = data.merge(followers, how = 'inner', on=['Account','date'])"
   ]
  },
  {
   "cell_type": "code",
   "execution_count": 19,
   "metadata": {},
   "outputs": [
    {
     "name": "stdout",
     "output_type": "stream",
     "text": [
      "10317\n"
     ]
    },
    {
     "data": {
      "text/html": [
       "<div>\n",
       "<style scoped>\n",
       "    .dataframe tbody tr th:only-of-type {\n",
       "        vertical-align: middle;\n",
       "    }\n",
       "\n",
       "    .dataframe tbody tr th {\n",
       "        vertical-align: top;\n",
       "    }\n",
       "\n",
       "    .dataframe thead th {\n",
       "        text-align: right;\n",
       "    }\n",
       "</style>\n",
       "<table border=\"1\" class=\"dataframe\">\n",
       "  <thead>\n",
       "    <tr style=\"text-align: right;\">\n",
       "      <th></th>\n",
       "      <th>Account</th>\n",
       "      <th>nTweets</th>\n",
       "      <th>pHashtags</th>\n",
       "      <th>pMentions</th>\n",
       "      <th>pURLs</th>\n",
       "      <th>pMedia</th>\n",
       "      <th>pRTs</th>\n",
       "      <th>date</th>\n",
       "      <th>Followers</th>\n",
       "    </tr>\n",
       "  </thead>\n",
       "  <tbody>\n",
       "    <tr>\n",
       "      <th>0</th>\n",
       "      <td>bonappetit</td>\n",
       "      <td>24</td>\n",
       "      <td>0.0</td>\n",
       "      <td>0.0417</td>\n",
       "      <td>0.75</td>\n",
       "      <td>0.25</td>\n",
       "      <td>0.0</td>\n",
       "      <td>2018-02-24</td>\n",
       "      <td>3191547.0</td>\n",
       "    </tr>\n",
       "    <tr>\n",
       "      <th>1</th>\n",
       "      <td>NatGeoFood</td>\n",
       "      <td>0</td>\n",
       "      <td>0.0</td>\n",
       "      <td>0.0</td>\n",
       "      <td>0.0</td>\n",
       "      <td>0.0</td>\n",
       "      <td>0.0</td>\n",
       "      <td>2018-02-24</td>\n",
       "      <td>35479.0</td>\n",
       "    </tr>\n",
       "    <tr>\n",
       "      <th>2</th>\n",
       "      <td>TwitterFood</td>\n",
       "      <td>0</td>\n",
       "      <td>0.0</td>\n",
       "      <td>0.0</td>\n",
       "      <td>0.0</td>\n",
       "      <td>0.0</td>\n",
       "      <td>0.0</td>\n",
       "      <td>2018-02-24</td>\n",
       "      <td>838307.0</td>\n",
       "    </tr>\n",
       "    <tr>\n",
       "      <th>3</th>\n",
       "      <td>Fooddotcom</td>\n",
       "      <td>0</td>\n",
       "      <td>0.0</td>\n",
       "      <td>0.0</td>\n",
       "      <td>0.0</td>\n",
       "      <td>0.0</td>\n",
       "      <td>0.0</td>\n",
       "      <td>2018-02-24</td>\n",
       "      <td>28.0</td>\n",
       "    </tr>\n",
       "    <tr>\n",
       "      <th>4</th>\n",
       "      <td>newfoodeconomy</td>\n",
       "      <td>5</td>\n",
       "      <td>0.0</td>\n",
       "      <td>0.0</td>\n",
       "      <td>1.0</td>\n",
       "      <td>0.2</td>\n",
       "      <td>0.0</td>\n",
       "      <td>2018-02-24</td>\n",
       "      <td>5905.0</td>\n",
       "    </tr>\n",
       "  </tbody>\n",
       "</table>\n",
       "</div>"
      ],
      "text/plain": [
       "          Account nTweets pHashtags pMentions pURLs pMedia pRTs        date  \\\n",
       "0      bonappetit      24       0.0    0.0417  0.75   0.25  0.0  2018-02-24   \n",
       "1      NatGeoFood       0       0.0       0.0   0.0    0.0  0.0  2018-02-24   \n",
       "2     TwitterFood       0       0.0       0.0   0.0    0.0  0.0  2018-02-24   \n",
       "3      Fooddotcom       0       0.0       0.0   0.0    0.0  0.0  2018-02-24   \n",
       "4  newfoodeconomy       5       0.0       0.0   1.0    0.2  0.0  2018-02-24   \n",
       "\n",
       "   Followers  \n",
       "0  3191547.0  \n",
       "1    35479.0  \n",
       "2   838307.0  \n",
       "3       28.0  \n",
       "4     5905.0  "
      ]
     },
     "execution_count": 19,
     "metadata": {},
     "output_type": "execute_result"
    }
   ],
   "source": [
    "print(len(modelData))\n",
    "modelData.head()"
   ]
  },
  {
   "cell_type": "code",
   "execution_count": 20,
   "metadata": {},
   "outputs": [
    {
     "name": "stdout",
     "output_type": "stream",
     "text": [
      "['2018-02-24' '2018-02-25' '2018-02-26' '2018-02-27' '2018-02-28'\n",
      " '2018-03-01' '2018-03-02' '2018-03-03' '2018-03-04' '2018-03-05'\n",
      " '2018-03-06' '2018-03-07' '2018-03-08' '2018-03-09' '2018-03-10'\n",
      " '2018-03-11' '2018-03-12' '2018-03-13' '2018-03-14' '2018-03-15'\n",
      " '2018-03-16' '2018-03-17' '2018-03-18' '2018-03-19' '2018-03-20'\n",
      " '2018-03-21' '2018-03-22' '2018-03-23' '2018-03-24' '2018-03-25'\n",
      " '2018-03-26' '2018-03-27' '2018-03-28' '2018-03-29' '2018-03-30'\n",
      " '2018-03-31' '2018-04-01' '2018-04-02' '2018-04-03' '2018-04-04'\n",
      " '2018-04-05' '2018-04-06' '2018-04-07' '2018-04-08' '2018-04-09'\n",
      " '2018-04-10' '2018-04-11' '2018-04-12' '2018-04-13' '2018-04-14'\n",
      " '2018-04-15' '2018-04-16' '2018-04-17' '2018-04-18' '2018-04-19'\n",
      " '2018-04-20' '2018-04-21']\n"
     ]
    }
   ],
   "source": [
    "print(modelData.date.unique())"
   ]
  },
  {
   "cell_type": "code",
   "execution_count": 21,
   "metadata": {},
   "outputs": [],
   "source": [
    "save_to = '../data collection/Data/ModelData/modelData2.csv'\n",
    "modelData.to_csv(save_to,sep=';',index=False)"
   ]
  },
  {
   "cell_type": "markdown",
   "metadata": {},
   "source": [
    "# Check"
   ]
  },
  {
   "cell_type": "code",
   "execution_count": 22,
   "metadata": {},
   "outputs": [
    {
     "name": "stdout",
     "output_type": "stream",
     "text": [
      "10317\n"
     ]
    },
    {
     "data": {
      "text/html": [
       "<div>\n",
       "<style scoped>\n",
       "    .dataframe tbody tr th:only-of-type {\n",
       "        vertical-align: middle;\n",
       "    }\n",
       "\n",
       "    .dataframe tbody tr th {\n",
       "        vertical-align: top;\n",
       "    }\n",
       "\n",
       "    .dataframe thead th {\n",
       "        text-align: right;\n",
       "    }\n",
       "</style>\n",
       "<table border=\"1\" class=\"dataframe\">\n",
       "  <thead>\n",
       "    <tr style=\"text-align: right;\">\n",
       "      <th></th>\n",
       "      <th>Account</th>\n",
       "      <th>nTweets</th>\n",
       "      <th>pHashtags</th>\n",
       "      <th>pMentions</th>\n",
       "      <th>pURLs</th>\n",
       "      <th>pMedia</th>\n",
       "      <th>pRTs</th>\n",
       "      <th>date</th>\n",
       "      <th>Followers</th>\n",
       "    </tr>\n",
       "  </thead>\n",
       "  <tbody>\n",
       "    <tr>\n",
       "      <th>0</th>\n",
       "      <td>bonappetit</td>\n",
       "      <td>24</td>\n",
       "      <td>0.0</td>\n",
       "      <td>0.0417</td>\n",
       "      <td>0.75</td>\n",
       "      <td>0.25</td>\n",
       "      <td>0.0</td>\n",
       "      <td>2018-02-24</td>\n",
       "      <td>3191547.0</td>\n",
       "    </tr>\n",
       "    <tr>\n",
       "      <th>1</th>\n",
       "      <td>NatGeoFood</td>\n",
       "      <td>0</td>\n",
       "      <td>0.0</td>\n",
       "      <td>0.0</td>\n",
       "      <td>0.0</td>\n",
       "      <td>0.0</td>\n",
       "      <td>0.0</td>\n",
       "      <td>2018-02-24</td>\n",
       "      <td>35479.0</td>\n",
       "    </tr>\n",
       "    <tr>\n",
       "      <th>2</th>\n",
       "      <td>TwitterFood</td>\n",
       "      <td>0</td>\n",
       "      <td>0.0</td>\n",
       "      <td>0.0</td>\n",
       "      <td>0.0</td>\n",
       "      <td>0.0</td>\n",
       "      <td>0.0</td>\n",
       "      <td>2018-02-24</td>\n",
       "      <td>838307.0</td>\n",
       "    </tr>\n",
       "    <tr>\n",
       "      <th>3</th>\n",
       "      <td>Fooddotcom</td>\n",
       "      <td>0</td>\n",
       "      <td>0.0</td>\n",
       "      <td>0.0</td>\n",
       "      <td>0.0</td>\n",
       "      <td>0.0</td>\n",
       "      <td>0.0</td>\n",
       "      <td>2018-02-24</td>\n",
       "      <td>28.0</td>\n",
       "    </tr>\n",
       "    <tr>\n",
       "      <th>4</th>\n",
       "      <td>newfoodeconomy</td>\n",
       "      <td>5</td>\n",
       "      <td>0.0</td>\n",
       "      <td>0.0</td>\n",
       "      <td>1.0</td>\n",
       "      <td>0.2</td>\n",
       "      <td>0.0</td>\n",
       "      <td>2018-02-24</td>\n",
       "      <td>5905.0</td>\n",
       "    </tr>\n",
       "  </tbody>\n",
       "</table>\n",
       "</div>"
      ],
      "text/plain": [
       "          Account nTweets pHashtags pMentions pURLs pMedia pRTs        date  \\\n",
       "0      bonappetit      24       0.0    0.0417  0.75   0.25  0.0  2018-02-24   \n",
       "1      NatGeoFood       0       0.0       0.0   0.0    0.0  0.0  2018-02-24   \n",
       "2     TwitterFood       0       0.0       0.0   0.0    0.0  0.0  2018-02-24   \n",
       "3      Fooddotcom       0       0.0       0.0   0.0    0.0  0.0  2018-02-24   \n",
       "4  newfoodeconomy       5       0.0       0.0   1.0    0.2  0.0  2018-02-24   \n",
       "\n",
       "   Followers  \n",
       "0  3191547.0  \n",
       "1    35479.0  \n",
       "2   838307.0  \n",
       "3       28.0  \n",
       "4     5905.0  "
      ]
     },
     "execution_count": 22,
     "metadata": {},
     "output_type": "execute_result"
    }
   ],
   "source": [
    "path = '../data collection/Data/ModelData/modelData2.csv'\n",
    "file = pd.read_csv(path,sep=';')\n",
    "print(len(file))\n",
    "file.head()"
   ]
  },
  {
   "cell_type": "code",
   "execution_count": null,
   "metadata": {},
   "outputs": [],
   "source": []
  }
 ],
 "metadata": {
  "kernelspec": {
   "display_name": "Python 3",
   "language": "python",
   "name": "python3"
  },
  "language_info": {
   "codemirror_mode": {
    "name": "ipython",
    "version": 3
   },
   "file_extension": ".py",
   "mimetype": "text/x-python",
   "name": "python",
   "nbconvert_exporter": "python",
   "pygments_lexer": "ipython3",
   "version": "3.6.3"
  }
 },
 "nbformat": 4,
 "nbformat_minor": 2
}
