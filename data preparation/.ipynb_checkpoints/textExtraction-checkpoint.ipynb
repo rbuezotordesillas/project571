{
 "cells": [
  {
   "cell_type": "code",
   "execution_count": 1,
   "metadata": {},
   "outputs": [],
   "source": [
    "import numpy as np\n",
    "import pandas as pd\n",
    "import json\n",
    "from pathlib import Path"
   ]
  },
  {
   "cell_type": "code",
   "execution_count": 2,
   "metadata": {},
   "outputs": [],
   "source": [
    "import re"
   ]
  },
  {
   "cell_type": "code",
   "execution_count": 3,
   "metadata": {},
   "outputs": [],
   "source": [
    "# helper functions\n",
    "def loadJson(path):\n",
    "    '''returns datarfame from json file'''\n",
    "    with open(path,'r') as fp: #load historic tweets\n",
    "        tweets_json = json.load(fp)\n",
    "    return pd.read_json(tweets_json)\n",
    "\n",
    "def saveDataFrame(df,path):\n",
    "    '''save DataFerame in csv format'''\n",
    "    df.to_csv(path,sep=';',index=False)"
   ]
  },
  {
   "cell_type": "code",
   "execution_count": 4,
   "metadata": {},
   "outputs": [],
   "source": [
    "#text extraction functions\n",
    "def getText(l):\n",
    "    t = ''\n",
    "    for e in l:\n",
    "        t += e['text'].split('http')[0]\n",
    "    return t\n",
    "    #return re.sub(r'(\\s)@\\w+', r'\\1', t) #if we finally remove mentions\n",
    "def getCategoryText(l):\n",
    "    catText = ''\n",
    "    for e in l:\n",
    "        catText += getText(e)\n",
    "        catText += '\\n'\n",
    "    return catText"
   ]
  },
  {
   "cell_type": "code",
   "execution_count": 5,
   "metadata": {},
   "outputs": [],
   "source": [
    "#load accounts\n",
    "accounts = pd.read_csv('../data collection/Data/accounts.csv',sep=';')"
   ]
  },
  {
   "cell_type": "code",
   "execution_count": 6,
   "metadata": {},
   "outputs": [],
   "source": [
    "#initialize results\n",
    "categoryTexts = {cat:'' for cat in accounts.Category.unique()}"
   ]
  },
  {
   "cell_type": "code",
   "execution_count": 7,
   "metadata": {},
   "outputs": [],
   "source": [
    "load_from = '../data collection/Data/Carlota/Tweets'\n",
    "save_to = '../data collection/Data/ModelData/historicTweets.csv'\n",
    "pathlist = Path(load_from).glob('todaysTweets_2018-03-01.json')\n",
    "for path in pathlist:\n",
    "    date = path.name[13:-5]\n",
    "    tweets = loadJson(path)\n",
    "    merged = pd.merge(accounts,tweets,on='Account')\n",
    "    for cat in categoryTexts:\n",
    "        categoryTexts[cat] += getCategoryText(merged[merged.Category == cat][date])"
   ]
  }
 ],
 "metadata": {
  "kernelspec": {
   "display_name": "Python 3",
   "language": "python",
   "name": "python3"
  },
  "language_info": {
   "codemirror_mode": {
    "name": "ipython",
    "version": 3
   },
   "file_extension": ".py",
   "mimetype": "text/x-python",
   "name": "python",
   "nbconvert_exporter": "python",
   "pygments_lexer": "ipython3",
   "version": "3.6.3"
  }
 },
 "nbformat": 4,
 "nbformat_minor": 2
}
